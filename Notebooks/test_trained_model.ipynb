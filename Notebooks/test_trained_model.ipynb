{
 "cells": [
  {
   "cell_type": "code",
   "execution_count": 1,
   "metadata": {},
   "outputs": [],
   "source": [
    "from ultralytics import YOLO\n"
   ]
  },
  {
   "cell_type": "code",
   "execution_count": 2,
   "metadata": {},
   "outputs": [],
   "source": [
    "model = YOLO(\"/home/hrbjoern/Desktop/2024-09_CucumberIntelligence/2024-09-26_1108_segments_best.pt\")"
   ]
  },
  {
   "cell_type": "code",
   "execution_count": 3,
   "metadata": {},
   "outputs": [
    {
     "name": "stdout",
     "output_type": "stream",
     "text": [
      "\n",
      "0: 1280x1280 1 cucumber, 4787.4ms\n",
      "1: 1280x1280 6 cucumbers, 4787.4ms\n",
      "2: 1280x1280 (no detections), 4787.4ms\n",
      "Speed: 21.0ms preprocess, 4787.4ms inference, 25.8ms postprocess per image at shape (1, 3, 1280, 1280)\n"
     ]
    },
    {
     "name": "stderr",
     "output_type": "stream",
     "text": [
      "\n",
      "(eog:39741): EOG-CRITICAL **: 12:05:05.680: eog_image_get_file: assertion 'EOG_IS_IMAGE (img)' failed\n",
      "\n",
      "(eog:39741): GLib-GIO-CRITICAL **: 12:05:05.681: g_file_equal: assertion 'G_IS_FILE (file1)' failed\n"
     ]
    }
   ],
   "source": [
    "# Test the model on a single image\n",
    "\n",
    "results = model.predict([\"../20220614_134218_Gurkenfoto_2.jpg\",\n",
    "                         \"../131055.jpg\",\n",
    "                         \"../20220614_134218_Gurkenfoto_rescaled_640_segments.jpg\"],\n",
    "                        imgsz=1280, \n",
    "                        conf=0.6,\n",
    "                        #show=True,\n",
    "                        #save=True)\n",
    "                        save=False)\n",
    "\n",
    "for result in results:\n",
    "  boxes = result.boxes\n",
    "  probs = result.probs\n",
    "  masks = result.masks\n",
    "  result.show()"
   ]
  }
 ],
 "metadata": {
  "kernelspec": {
   "display_name": "dsr-setup",
   "language": "python",
   "name": "dsr-setup"
  },
  "language_info": {
   "codemirror_mode": {
    "name": "ipython",
    "version": 3
   },
   "file_extension": ".py",
   "mimetype": "text/x-python",
   "name": "python",
   "nbconvert_exporter": "python",
   "pygments_lexer": "ipython3",
   "version": "3.12.4"
  }
 },
 "nbformat": 4,
 "nbformat_minor": 2
}
