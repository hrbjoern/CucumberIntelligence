{
  "cells": [
    {
      "cell_type": "markdown",
      "metadata": {
        "id": "k9FZe4ArvTmT"
      },
      "source": [
        "# Finetuning a pretrained YOLO detection model with segmentation data:"
      ]
    },
    {
      "cell_type": "markdown",
      "metadata": {
        "id": "myDcT_KYvTmW"
      },
      "source": [
        "## Imports:"
      ]
    },
    {
      "cell_type": "code",
      "execution_count": 1,
      "metadata": {
        "id": "q6xEnXncvTmX"
      },
      "outputs": [],
      "source": [
        "import os\n",
        "import datetime\n",
        "import tensorflow as tf\n",
        "!apt-get install pv\n"
      ]
    },
    {
      "cell_type": "markdown",
      "metadata": {
        "id": "12R5KfmgvTmY"
      },
      "source": [
        "## Fetch the data:"
      ]
    },
    {
      "cell_type": "code",
      "execution_count": 7,
      "metadata": {
        "id": "8qZ2OrwovTmZ",
        "outputId": "0274040c-3d64-4d91-a48b-80745fd59044",
        "colab": {
          "base_uri": "https://localhost:8080/"
        }
      },
      "outputs": [
        {
          "output_type": "stream",
          "name": "stdout",
          "text": [
            "Drive already mounted at /content/drive; to attempt to forcibly remount, call drive.mount(\"/content/drive\", force_remount=True).\n",
            "'/content/drive/MyDrive/setup_015/001.png' -> '/content/Data/001.png'\n",
            "'/content/drive/MyDrive/setup_015/002.png' -> '/content/Data/002.png'\n",
            "'/content/drive/MyDrive/setup_015/003.png' -> '/content/Data/003.png'\n",
            "'/content/drive/MyDrive/setup_015/004.png' -> '/content/Data/004.png'\n",
            "'/content/drive/MyDrive/setup_015/005.png' -> '/content/Data/005.png'\n",
            "'/content/drive/MyDrive/setup_015/006.png' -> '/content/Data/006.png'\n",
            "'/content/drive/MyDrive/setup_015/007.png' -> '/content/Data/007.png'\n",
            "'/content/drive/MyDrive/setup_015/008.png' -> '/content/Data/008.png'\n",
            "'/content/drive/MyDrive/setup_015/009.png' -> '/content/Data/009.png'\n",
            "'/content/drive/MyDrive/setup_015/010.png' -> '/content/Data/010.png'\n",
            "'/content/drive/MyDrive/setup_015/011.png' -> '/content/Data/011.png'\n",
            "'/content/drive/MyDrive/setup_015/012.png' -> '/content/Data/012.png'\n",
            "'/content/drive/MyDrive/setup_015/013.png' -> '/content/Data/013.png'\n",
            "'/content/drive/MyDrive/setup_015/014.png' -> '/content/Data/014.png'\n",
            "'/content/drive/MyDrive/setup_015/015.png' -> '/content/Data/015.png'\n",
            "'/content/drive/MyDrive/setup_015/016.png' -> '/content/Data/016.png'\n",
            "'/content/drive/MyDrive/setup_015/017.png' -> '/content/Data/017.png'\n",
            "'/content/drive/MyDrive/setup_015/018.png' -> '/content/Data/018.png'\n",
            "'/content/drive/MyDrive/setup_015/019.png' -> '/content/Data/019.png'\n",
            "'/content/drive/MyDrive/setup_015/020.png' -> '/content/Data/020.png'\n",
            "'/content/drive/MyDrive/setup_015/021.png' -> '/content/Data/021.png'\n",
            "'/content/drive/MyDrive/setup_015/022.png' -> '/content/Data/022.png'\n",
            "'/content/drive/MyDrive/setup_015/023.png' -> '/content/Data/023.png'\n",
            "'/content/drive/MyDrive/setup_015/024.png' -> '/content/Data/024.png'\n",
            "'/content/drive/MyDrive/setup_015/025.png' -> '/content/Data/025.png'\n",
            "'/content/drive/MyDrive/setup_015/026.png' -> '/content/Data/026.png'\n",
            "'/content/drive/MyDrive/setup_015/027.png' -> '/content/Data/027.png'\n",
            "'/content/drive/MyDrive/setup_015/028.png' -> '/content/Data/028.png'\n",
            "'/content/drive/MyDrive/setup_015/029.png' -> '/content/Data/029.png'\n",
            "'/content/drive/MyDrive/setup_015/030.png' -> '/content/Data/030.png'\n",
            "'/content/drive/MyDrive/setup_015/031.png' -> '/content/Data/031.png'\n",
            "'/content/drive/MyDrive/setup_015/032.png' -> '/content/Data/032.png'\n",
            "'/content/drive/MyDrive/setup_015/033.png' -> '/content/Data/033.png'\n",
            "'/content/drive/MyDrive/setup_015/034.png' -> '/content/Data/034.png'\n",
            "'/content/drive/MyDrive/setup_015/035.png' -> '/content/Data/035.png'\n",
            "'/content/drive/MyDrive/setup_015/036.png' -> '/content/Data/036.png'\n",
            "'/content/drive/MyDrive/setup_015/037.png' -> '/content/Data/037.png'\n",
            "'/content/drive/MyDrive/setup_015/038.png' -> '/content/Data/038.png'\n",
            "'/content/drive/MyDrive/setup_015/039.png' -> '/content/Data/039.png'\n",
            "'/content/drive/MyDrive/setup_015/040.png' -> '/content/Data/040.png'\n",
            "'/content/drive/MyDrive/setup_015/041.png' -> '/content/Data/041.png'\n",
            "'/content/drive/MyDrive/setup_015/042.png' -> '/content/Data/042.png'\n",
            "'/content/drive/MyDrive/setup_015/043.png' -> '/content/Data/043.png'\n",
            "'/content/drive/MyDrive/setup_015/044.png' -> '/content/Data/044.png'\n",
            "'/content/drive/MyDrive/setup_015/045.png' -> '/content/Data/045.png'\n",
            "'/content/drive/MyDrive/setup_015/046.png' -> '/content/Data/046.png'\n",
            "'/content/drive/MyDrive/setup_015/047.png' -> '/content/Data/047.png'\n",
            "'/content/drive/MyDrive/setup_015/048.png' -> '/content/Data/048.png'\n",
            "'/content/drive/MyDrive/setup_015/049.png' -> '/content/Data/049.png'\n",
            "'/content/drive/MyDrive/setup_015/050.png' -> '/content/Data/050.png'\n",
            "'/content/drive/MyDrive/setup_015/051.png' -> '/content/Data/051.png'\n",
            "'/content/drive/MyDrive/setup_015/052.png' -> '/content/Data/052.png'\n",
            "'/content/drive/MyDrive/setup_015/053.png' -> '/content/Data/053.png'\n",
            "'/content/drive/MyDrive/setup_015/054.png' -> '/content/Data/054.png'\n",
            "'/content/drive/MyDrive/setup_015/055.png' -> '/content/Data/055.png'\n",
            "'/content/drive/MyDrive/setup_015/056.png' -> '/content/Data/056.png'\n",
            "'/content/drive/MyDrive/setup_015/057.png' -> '/content/Data/057.png'\n",
            "'/content/drive/MyDrive/setup_015/058.png' -> '/content/Data/058.png'\n",
            "'/content/drive/MyDrive/setup_015/059.png' -> '/content/Data/059.png'\n",
            "'/content/drive/MyDrive/setup_015/060.png' -> '/content/Data/060.png'\n",
            "'/content/drive/MyDrive/setup_015/061.png' -> '/content/Data/061.png'\n",
            "'/content/drive/MyDrive/setup_015/062.png' -> '/content/Data/062.png'\n",
            "'/content/drive/MyDrive/setup_015/063.png' -> '/content/Data/063.png'\n",
            "'/content/drive/MyDrive/setup_015/064.png' -> '/content/Data/064.png'\n",
            "'/content/drive/MyDrive/setup_015/065.png' -> '/content/Data/065.png'\n",
            "'/content/drive/MyDrive/setup_015/066.png' -> '/content/Data/066.png'\n",
            "'/content/drive/MyDrive/setup_015/067.png' -> '/content/Data/067.png'\n",
            "'/content/drive/MyDrive/setup_015/068.png' -> '/content/Data/068.png'\n",
            "'/content/drive/MyDrive/setup_015/069.png' -> '/content/Data/069.png'\n",
            "'/content/drive/MyDrive/setup_015/annotations.json' -> '/content/Data/annotations.json'\n",
            "'/content/drive/MyDrive/setup_015/converted_segmentation_labels' -> '/content/Data/converted_segmentation_labels'\n",
            "'/content/drive/MyDrive/setup_015/converted_segmentation_labels/012.txt' -> '/content/Data/converted_segmentation_labels/012.txt'\n",
            "'/content/drive/MyDrive/setup_015/converted_segmentation_labels/057.txt' -> '/content/Data/converted_segmentation_labels/057.txt'\n",
            "'/content/drive/MyDrive/setup_015/converted_segmentation_labels/035.txt' -> '/content/Data/converted_segmentation_labels/035.txt'\n",
            "'/content/drive/MyDrive/setup_015/converted_segmentation_labels/029.txt' -> '/content/Data/converted_segmentation_labels/029.txt'\n",
            "'/content/drive/MyDrive/setup_015/converted_segmentation_labels/050.txt' -> '/content/Data/converted_segmentation_labels/050.txt'\n",
            "'/content/drive/MyDrive/setup_015/converted_segmentation_labels/005.txt' -> '/content/Data/converted_segmentation_labels/005.txt'\n",
            "'/content/drive/MyDrive/setup_015/converted_segmentation_labels/032.txt' -> '/content/Data/converted_segmentation_labels/032.txt'\n",
            "'/content/drive/MyDrive/setup_015/converted_segmentation_labels/020.txt' -> '/content/Data/converted_segmentation_labels/020.txt'\n",
            "'/content/drive/MyDrive/setup_015/converted_segmentation_labels/039.txt' -> '/content/Data/converted_segmentation_labels/039.txt'\n",
            "'/content/drive/MyDrive/setup_015/converted_segmentation_labels/051.txt' -> '/content/Data/converted_segmentation_labels/051.txt'\n",
            "'/content/drive/MyDrive/setup_015/converted_segmentation_labels/046.txt' -> '/content/Data/converted_segmentation_labels/046.txt'\n",
            "'/content/drive/MyDrive/setup_015/converted_segmentation_labels/054.txt' -> '/content/Data/converted_segmentation_labels/054.txt'\n",
            "'/content/drive/MyDrive/setup_015/converted_segmentation_labels/049.txt' -> '/content/Data/converted_segmentation_labels/049.txt'\n",
            "'/content/drive/MyDrive/setup_015/converted_segmentation_labels/037.txt' -> '/content/Data/converted_segmentation_labels/037.txt'\n",
            "'/content/drive/MyDrive/setup_015/converted_segmentation_labels/018.txt' -> '/content/Data/converted_segmentation_labels/018.txt'\n",
            "'/content/drive/MyDrive/setup_015/converted_segmentation_labels/001.txt' -> '/content/Data/converted_segmentation_labels/001.txt'\n",
            "'/content/drive/MyDrive/setup_015/converted_segmentation_labels/059.txt' -> '/content/Data/converted_segmentation_labels/059.txt'\n",
            "'/content/drive/MyDrive/setup_015/converted_segmentation_labels/055.txt' -> '/content/Data/converted_segmentation_labels/055.txt'\n",
            "'/content/drive/MyDrive/setup_015/converted_segmentation_labels/003.txt' -> '/content/Data/converted_segmentation_labels/003.txt'\n",
            "'/content/drive/MyDrive/setup_015/converted_segmentation_labels/024.txt' -> '/content/Data/converted_segmentation_labels/024.txt'\n",
            "'/content/drive/MyDrive/setup_015/converted_segmentation_labels/060.txt' -> '/content/Data/converted_segmentation_labels/060.txt'\n",
            "'/content/drive/MyDrive/setup_015/converted_segmentation_labels/017.txt' -> '/content/Data/converted_segmentation_labels/017.txt'\n",
            "'/content/drive/MyDrive/setup_015/converted_segmentation_labels/065.txt' -> '/content/Data/converted_segmentation_labels/065.txt'\n",
            "'/content/drive/MyDrive/setup_015/converted_segmentation_labels/028.txt' -> '/content/Data/converted_segmentation_labels/028.txt'\n",
            "'/content/drive/MyDrive/setup_015/converted_segmentation_labels/034.txt' -> '/content/Data/converted_segmentation_labels/034.txt'\n",
            "'/content/drive/MyDrive/setup_015/converted_segmentation_labels/048.txt' -> '/content/Data/converted_segmentation_labels/048.txt'\n",
            "'/content/drive/MyDrive/setup_015/converted_segmentation_labels/038.txt' -> '/content/Data/converted_segmentation_labels/038.txt'\n",
            "'/content/drive/MyDrive/setup_015/converted_segmentation_labels/041.txt' -> '/content/Data/converted_segmentation_labels/041.txt'\n",
            "'/content/drive/MyDrive/setup_015/converted_segmentation_labels/031.txt' -> '/content/Data/converted_segmentation_labels/031.txt'\n",
            "'/content/drive/MyDrive/setup_015/converted_segmentation_labels/010.txt' -> '/content/Data/converted_segmentation_labels/010.txt'\n",
            "'/content/drive/MyDrive/setup_015/converted_segmentation_labels/044.txt' -> '/content/Data/converted_segmentation_labels/044.txt'\n",
            "'/content/drive/MyDrive/setup_015/converted_segmentation_labels/011.txt' -> '/content/Data/converted_segmentation_labels/011.txt'\n",
            "'/content/drive/MyDrive/setup_015/converted_segmentation_labels/023.txt' -> '/content/Data/converted_segmentation_labels/023.txt'\n",
            "'/content/drive/MyDrive/setup_015/converted_segmentation_labels/016.txt' -> '/content/Data/converted_segmentation_labels/016.txt'\n",
            "'/content/drive/MyDrive/setup_015/converted_segmentation_labels/026.txt' -> '/content/Data/converted_segmentation_labels/026.txt'\n",
            "'/content/drive/MyDrive/setup_015/converted_segmentation_labels/066.txt' -> '/content/Data/converted_segmentation_labels/066.txt'\n",
            "'/content/drive/MyDrive/setup_015/converted_segmentation_labels/052.txt' -> '/content/Data/converted_segmentation_labels/052.txt'\n",
            "'/content/drive/MyDrive/setup_015/converted_segmentation_labels/069.txt' -> '/content/Data/converted_segmentation_labels/069.txt'\n",
            "'/content/drive/MyDrive/setup_015/converted_segmentation_labels/043.txt' -> '/content/Data/converted_segmentation_labels/043.txt'\n",
            "'/content/drive/MyDrive/setup_015/converted_segmentation_labels/013.txt' -> '/content/Data/converted_segmentation_labels/013.txt'\n",
            "'/content/drive/MyDrive/setup_015/converted_segmentation_labels/047.txt' -> '/content/Data/converted_segmentation_labels/047.txt'\n",
            "'/content/drive/MyDrive/setup_015/converted_segmentation_labels/004.txt' -> '/content/Data/converted_segmentation_labels/004.txt'\n",
            "'/content/drive/MyDrive/setup_015/converted_segmentation_labels/042.txt' -> '/content/Data/converted_segmentation_labels/042.txt'\n",
            "'/content/drive/MyDrive/setup_015/converted_segmentation_labels/014.txt' -> '/content/Data/converted_segmentation_labels/014.txt'\n",
            "'/content/drive/MyDrive/setup_015/converted_segmentation_labels/062.txt' -> '/content/Data/converted_segmentation_labels/062.txt'\n",
            "'/content/drive/MyDrive/setup_015/converted_segmentation_labels/053.txt' -> '/content/Data/converted_segmentation_labels/053.txt'\n",
            "'/content/drive/MyDrive/setup_015/converted_segmentation_labels/063.txt' -> '/content/Data/converted_segmentation_labels/063.txt'\n",
            "'/content/drive/MyDrive/setup_015/converted_segmentation_labels/025.txt' -> '/content/Data/converted_segmentation_labels/025.txt'\n",
            "'/content/drive/MyDrive/setup_015/converted_segmentation_labels/061.txt' -> '/content/Data/converted_segmentation_labels/061.txt'\n",
            "'/content/drive/MyDrive/setup_015/converted_segmentation_labels/022.txt' -> '/content/Data/converted_segmentation_labels/022.txt'\n",
            "'/content/drive/MyDrive/setup_015/converted_segmentation_labels/009.txt' -> '/content/Data/converted_segmentation_labels/009.txt'\n",
            "'/content/drive/MyDrive/setup_015/converted_segmentation_labels/068.txt' -> '/content/Data/converted_segmentation_labels/068.txt'\n",
            "'/content/drive/MyDrive/setup_015/converted_segmentation_labels/019.txt' -> '/content/Data/converted_segmentation_labels/019.txt'\n",
            "'/content/drive/MyDrive/setup_015/converted_segmentation_labels/033.txt' -> '/content/Data/converted_segmentation_labels/033.txt'\n",
            "'/content/drive/MyDrive/setup_015/converted_segmentation_labels/002.txt' -> '/content/Data/converted_segmentation_labels/002.txt'\n",
            "'/content/drive/MyDrive/setup_015/converted_segmentation_labels/058.txt' -> '/content/Data/converted_segmentation_labels/058.txt'\n",
            "'/content/drive/MyDrive/setup_015/converted_segmentation_labels/006.txt' -> '/content/Data/converted_segmentation_labels/006.txt'\n",
            "'/content/drive/MyDrive/setup_015/converted_segmentation_labels/036.txt' -> '/content/Data/converted_segmentation_labels/036.txt'\n",
            "'/content/drive/MyDrive/setup_015/converted_segmentation_labels/027.txt' -> '/content/Data/converted_segmentation_labels/027.txt'\n",
            "'/content/drive/MyDrive/setup_015/converted_segmentation_labels/030.txt' -> '/content/Data/converted_segmentation_labels/030.txt'\n",
            "'/content/drive/MyDrive/setup_015/converted_segmentation_labels/015.txt' -> '/content/Data/converted_segmentation_labels/015.txt'\n",
            "'/content/drive/MyDrive/setup_015/converted_segmentation_labels/064.txt' -> '/content/Data/converted_segmentation_labels/064.txt'\n",
            "'/content/drive/MyDrive/setup_015/converted_segmentation_labels/056.txt' -> '/content/Data/converted_segmentation_labels/056.txt'\n",
            "'/content/drive/MyDrive/setup_015/converted_segmentation_labels/067.txt' -> '/content/Data/converted_segmentation_labels/067.txt'\n",
            "'/content/drive/MyDrive/setup_015/converted_segmentation_labels/021.txt' -> '/content/Data/converted_segmentation_labels/021.txt'\n",
            "'/content/drive/MyDrive/setup_015/converted_segmentation_labels/040.txt' -> '/content/Data/converted_segmentation_labels/040.txt'\n",
            "'/content/drive/MyDrive/setup-002-standalone.yaml' -> '/content/Data/setup-002-standalone.yaml'\n"
          ]
        }
      ],
      "source": [
        "if 'data_loaded' not in globals():\n",
        "    from google.colab import drive\n",
        "    drive.mount('/content/drive')\n",
        "    !mkdir /content/Data\n",
        "    !cp -rv /content/drive/MyDrive/setup_015/* /content/Data/ | pv\n",
        "    !cp -v /content/drive/MyDrive/setup-002-standalone.yaml /content/Data/"
      ]
    },
    {
      "cell_type": "markdown",
      "metadata": {
        "id": "LcVsirwdvTmZ"
      },
      "source": [
        "## Fetch helper scripts/functions and restructure the data:"
      ]
    },
    {
      "cell_type": "code",
      "execution_count": 9,
      "metadata": {
        "colab": {
          "base_uri": "https://localhost:8080/"
        },
        "id": "lmeHi-aMWDZm",
        "outputId": "2c7b94bc-b370-4201-b961-4560635975f9"
      },
      "outputs": [
        {
          "output_type": "stream",
          "name": "stdout",
          "text": [
            "'/content/drive/MyDrive/prepare_yolo_data_folders.py' -> '/content/prepare_yolo_data_folders.py'\n",
            "/content/Data\n",
            "Current folder is: /content/Data\n",
            "Found 66 labels.\n",
            "Found 66 labelled images:\n",
            " ['011', '018', '013', '034', '004', '048', '003', '009', '020', '065', '025', '068', '022', '030', '055', '024', '032', '047', '043', '042', '061', '031', '038', '053', '041', '060', '064', '069', '050', '037', '046', '028', '023', '054', '040', '021', '066', '052', '012', '044', '067', '062', '026', '049', '027', '016', '051', '015', '063', '056', '029', '033', '058', '019', '039', '035', '059', '036', '017', '010', '005', '014', '006', '057', '001', '002']\n",
            "Created train/images and train/labels.\n",
            "Created val/images and val/labels.\n",
            "Created test/images and test/labels.\n",
            "Moved 011.png to train/images.\n",
            "Moved converted_segmentation_labels/011.txt to train/labels.\n",
            "Moved 018.png to train/images.\n",
            "Moved converted_segmentation_labels/018.txt to train/labels.\n",
            "Moved 013.png to train/images.\n",
            "Moved converted_segmentation_labels/013.txt to train/labels.\n",
            "Moved 034.png to train/images.\n",
            "Moved converted_segmentation_labels/034.txt to train/labels.\n",
            "Moved 004.png to train/images.\n",
            "Moved converted_segmentation_labels/004.txt to train/labels.\n",
            "Moved 048.png to train/images.\n",
            "Moved converted_segmentation_labels/048.txt to train/labels.\n",
            "Moved 003.png to train/images.\n",
            "Moved converted_segmentation_labels/003.txt to train/labels.\n",
            "Moved 009.png to train/images.\n",
            "Moved converted_segmentation_labels/009.txt to train/labels.\n",
            "Moved 020.png to train/images.\n",
            "Moved converted_segmentation_labels/020.txt to train/labels.\n",
            "Moved 065.png to train/images.\n",
            "Moved converted_segmentation_labels/065.txt to train/labels.\n",
            "Moved 025.png to train/images.\n",
            "Moved converted_segmentation_labels/025.txt to train/labels.\n",
            "Moved 068.png to train/images.\n",
            "Moved converted_segmentation_labels/068.txt to train/labels.\n",
            "Moved 022.png to train/images.\n",
            "Moved converted_segmentation_labels/022.txt to train/labels.\n",
            "Moved 030.png to train/images.\n",
            "Moved converted_segmentation_labels/030.txt to train/labels.\n",
            "Moved 055.png to train/images.\n",
            "Moved converted_segmentation_labels/055.txt to train/labels.\n",
            "Moved 024.png to train/images.\n",
            "Moved converted_segmentation_labels/024.txt to train/labels.\n",
            "Moved 032.png to train/images.\n",
            "Moved converted_segmentation_labels/032.txt to train/labels.\n",
            "Moved 047.png to train/images.\n",
            "Moved converted_segmentation_labels/047.txt to train/labels.\n",
            "Moved 043.png to train/images.\n",
            "Moved converted_segmentation_labels/043.txt to train/labels.\n",
            "Moved 042.png to train/images.\n",
            "Moved converted_segmentation_labels/042.txt to train/labels.\n",
            "Moved 061.png to train/images.\n",
            "Moved converted_segmentation_labels/061.txt to train/labels.\n",
            "Moved 031.png to train/images.\n",
            "Moved converted_segmentation_labels/031.txt to train/labels.\n",
            "Moved 038.png to train/images.\n",
            "Moved converted_segmentation_labels/038.txt to train/labels.\n",
            "Moved 053.png to train/images.\n",
            "Moved converted_segmentation_labels/053.txt to train/labels.\n",
            "Moved 041.png to train/images.\n",
            "Moved converted_segmentation_labels/041.txt to train/labels.\n",
            "Moved 060.png to train/images.\n",
            "Moved converted_segmentation_labels/060.txt to train/labels.\n",
            "Moved 064.png to train/images.\n",
            "Moved converted_segmentation_labels/064.txt to train/labels.\n",
            "Moved 069.png to train/images.\n",
            "Moved converted_segmentation_labels/069.txt to train/labels.\n",
            "Moved 050.png to train/images.\n",
            "Moved converted_segmentation_labels/050.txt to train/labels.\n",
            "Moved 037.png to train/images.\n",
            "Moved converted_segmentation_labels/037.txt to train/labels.\n",
            "Moved 046.png to train/images.\n",
            "Moved converted_segmentation_labels/046.txt to train/labels.\n",
            "Moved 028.png to train/images.\n",
            "Moved converted_segmentation_labels/028.txt to train/labels.\n",
            "Moved 023.png to train/images.\n",
            "Moved converted_segmentation_labels/023.txt to train/labels.\n",
            "Moved 054.png to train/images.\n",
            "Moved converted_segmentation_labels/054.txt to train/labels.\n",
            "Moved 040.png to train/images.\n",
            "Moved converted_segmentation_labels/040.txt to train/labels.\n",
            "Moved 021.png to train/images.\n",
            "Moved converted_segmentation_labels/021.txt to train/labels.\n",
            "Moved 066.png to train/images.\n",
            "Moved converted_segmentation_labels/066.txt to train/labels.\n",
            "Moved 052.png to train/images.\n",
            "Moved converted_segmentation_labels/052.txt to train/labels.\n",
            "Moved 012.png to train/images.\n",
            "Moved converted_segmentation_labels/012.txt to train/labels.\n",
            "Moved 044.png to train/images.\n",
            "Moved converted_segmentation_labels/044.txt to train/labels.\n",
            "Moved 067.png to train/images.\n",
            "Moved converted_segmentation_labels/067.txt to train/labels.\n",
            "Moved 062.png to train/images.\n",
            "Moved converted_segmentation_labels/062.txt to train/labels.\n",
            "Moved 026.png to train/images.\n",
            "Moved converted_segmentation_labels/026.txt to train/labels.\n",
            "Moved 049.png to train/images.\n",
            "Moved converted_segmentation_labels/049.txt to train/labels.\n",
            "Moved 027.png to train/images.\n",
            "Moved converted_segmentation_labels/027.txt to train/labels.\n",
            "Moved 016.png to train/images.\n",
            "Moved converted_segmentation_labels/016.txt to train/labels.\n",
            "Moved 051.png to val/images.\n",
            "Moved converted_segmentation_labels/051.txt to val/labels.\n",
            "Moved 015.png to val/images.\n",
            "Moved converted_segmentation_labels/015.txt to val/labels.\n",
            "Moved 063.png to val/images.\n",
            "Moved converted_segmentation_labels/063.txt to val/labels.\n",
            "Moved 056.png to val/images.\n",
            "Moved converted_segmentation_labels/056.txt to val/labels.\n",
            "Moved 029.png to val/images.\n",
            "Moved converted_segmentation_labels/029.txt to val/labels.\n",
            "Moved 033.png to val/images.\n",
            "Moved converted_segmentation_labels/033.txt to val/labels.\n",
            "Moved 058.png to val/images.\n",
            "Moved converted_segmentation_labels/058.txt to val/labels.\n",
            "Moved 019.png to val/images.\n",
            "Moved converted_segmentation_labels/019.txt to val/labels.\n",
            "Moved 039.png to val/images.\n",
            "Moved converted_segmentation_labels/039.txt to val/labels.\n",
            "Moved 035.png to val/images.\n",
            "Moved converted_segmentation_labels/035.txt to val/labels.\n",
            "Moved 059.png to val/images.\n",
            "Moved converted_segmentation_labels/059.txt to val/labels.\n",
            "Moved 036.png to val/images.\n",
            "Moved converted_segmentation_labels/036.txt to val/labels.\n",
            "Moved 017.png to val/images.\n",
            "Moved converted_segmentation_labels/017.txt to val/labels.\n",
            "Moved 010.png to test/images.\n",
            "Moved converted_segmentation_labels/010.txt to test/labels.\n",
            "Moved 005.png to test/images.\n",
            "Moved converted_segmentation_labels/005.txt to test/labels.\n",
            "Moved 014.png to test/images.\n",
            "Moved converted_segmentation_labels/014.txt to test/labels.\n",
            "Moved 006.png to test/images.\n",
            "Moved converted_segmentation_labels/006.txt to test/labels.\n",
            "Moved 057.png to test/images.\n",
            "Moved converted_segmentation_labels/057.txt to test/labels.\n",
            "Moved 001.png to test/images.\n",
            "Moved converted_segmentation_labels/001.txt to test/labels.\n",
            "Moved 002.png to test/images.\n",
            "Moved converted_segmentation_labels/002.txt to test/labels.\n"
          ]
        }
      ],
      "source": [
        "if 'data_loaded' not in globals():\n",
        "    !cp -v /content/drive/MyDrive/prepare_yolo_data_folders.py /content/\n",
        "    from prepare_yolo_data_folders import prepare_yolo_data_folders\n",
        "\n",
        "    # Colab magic to make \"Data\" the current directory:\n",
        "    %cd /content/Data\n",
        "\n",
        "    #Do the train-validation split and move the image and label files to YOLO folder structure:\n",
        "    data_loaded = prepare_yolo_data_folders()"
      ]
    },
    {
      "cell_type": "markdown",
      "metadata": {
        "id": "3x3VEyeBl8LT"
      },
      "source": [
        "## Install ultralytics and import YOLO:"
      ]
    },
    {
      "cell_type": "code",
      "execution_count": 10,
      "metadata": {
        "colab": {
          "base_uri": "https://localhost:8080/"
        },
        "id": "DssQX0Izl8LV",
        "outputId": "29cc4e1b-8265-4654-ebbc-2a8f932aa468"
      },
      "outputs": [
        {
          "output_type": "stream",
          "name": "stdout",
          "text": [
            "\u001b[?25l   \u001b[90m━━━━━━━━━━━━━━━━━━━━━━━━━━━━━━━━━━━━━━━━\u001b[0m \u001b[32m0.0/874.8 kB\u001b[0m \u001b[31m?\u001b[0m eta \u001b[36m-:--:--\u001b[0m\r\u001b[2K   \u001b[90m━━━━━━━━━━━━━━━━━━━━━━━━━━━━━━━━━━━━━━━━\u001b[0m \u001b[32m874.8/874.8 kB\u001b[0m \u001b[31m26.5 MB/s\u001b[0m eta \u001b[36m0:00:00\u001b[0m\n",
            "\u001b[?25hCreating new Ultralytics Settings v0.0.6 file ✅ \n",
            "View Ultralytics Settings with 'yolo settings' or at '/root/.config/Ultralytics/settings.json'\n",
            "Update Settings with 'yolo settings key=value', i.e. 'yolo settings runs_dir=path/to/dir'. For help see https://docs.ultralytics.com/quickstart/#ultralytics-settings.\n"
          ]
        }
      ],
      "source": [
        "%pip -q install ultralytics\n",
        "from ultralytics import YOLO"
      ]
    },
    {
      "cell_type": "markdown",
      "metadata": {
        "id": "aMgOBKTNl8LY"
      },
      "source": [
        "Okay, so the images and labels are there? Next: Import YOLO model for training!\n",
        "Note: Check Bboxes vs. segmentations!"
      ]
    },
    {
      "cell_type": "markdown",
      "metadata": {
        "id": "XwmE979RvTmc"
      },
      "source": [
        "## Load tensorboard:"
      ]
    },
    {
      "cell_type": "code",
      "execution_count": 11,
      "metadata": {
        "id": "BKVwsgQXvTmc"
      },
      "outputs": [],
      "source": [
        "%load_ext tensorboard\n"
      ]
    },
    {
      "cell_type": "markdown",
      "metadata": {
        "id": "HdLzEISEl8LZ"
      },
      "source": [
        "## Import YOLO model for training"
      ]
    },
    {
      "cell_type": "code",
      "execution_count": 18,
      "metadata": {
        "id": "Wa3fw47Rl8LZ"
      },
      "outputs": [],
      "source": [
        "# Load a pretrained model:\n",
        "model = YOLO(\"yolov8m-seg.pt\")\n",
        "\n",
        "# Other models:\n",
        "#model = YOLO(\"yolov8s.pt\")\n",
        "#model = YOLO(\"yolov8m.pt\")\n",
        "#model = YOLO(\"yolov8n.pt\")"
      ]
    },
    {
      "cell_type": "markdown",
      "metadata": {
        "id": "XTtvAdyC4prh"
      },
      "source": [
        "### YAML file for folder and class definition: Everything ok?"
      ]
    },
    {
      "cell_type": "code",
      "execution_count": 13,
      "metadata": {
        "id": "Qg9GT-DNXqYJ"
      },
      "outputs": [],
      "source": [
        "#!cat /content/misc/setup-002-standalone.yaml\n",
        "yamlfile = \"/content/Data/setup-002-standalone.yaml\""
      ]
    },
    {
      "cell_type": "markdown",
      "metadata": {
        "id": "GUUZOtJzvTmd"
      },
      "source": [
        "## Do the training!"
      ]
    },
    {
      "cell_type": "code",
      "source": [
        "# If GPU-RAM is full before training:\n",
        "\n",
        "# import torch\n",
        "# torch.cuda.empty_cache()\n"
      ],
      "metadata": {
        "id": "0pmuENgYz_F4"
      },
      "execution_count": 19,
      "outputs": []
    },
    {
      "cell_type": "code",
      "execution_count": 23,
      "metadata": {
        "colab": {
          "base_uri": "https://localhost:8080/"
        },
        "id": "NHRvjSiFnEUZ",
        "outputId": "6d7513bc-c256-49ab-be9f-4550aaabdb0d"
      },
      "outputs": [
        {
          "output_type": "stream",
          "name": "stdout",
          "text": [
            "Ultralytics YOLOv8.2.102 🚀 Python-3.10.12 torch-2.4.1+cu121 CUDA:0 (NVIDIA L4, 22700MiB)\n",
            "\u001b[34m\u001b[1mengine/trainer: \u001b[0mtask=segment, mode=train, model=yolov8m-seg.pt, data=/content/Data/setup-002-standalone.yaml, epochs=100, time=None, patience=100, batch=0.9, imgsz=1280, save=True, save_period=-1, cache=False, device=None, workers=8, project=None, name=train4222, exist_ok=False, pretrained=True, optimizer=auto, verbose=True, seed=0, deterministic=True, single_cls=False, rect=False, cos_lr=False, close_mosaic=10, resume=False, amp=True, fraction=1.0, profile=False, freeze=None, multi_scale=False, overlap_mask=True, mask_ratio=4, dropout=0.0, val=True, split=val, save_json=False, save_hybrid=False, conf=None, iou=0.7, max_det=300, half=False, dnn=False, plots=True, source=None, vid_stride=1, stream_buffer=False, visualize=False, augment=False, agnostic_nms=False, classes=None, retina_masks=False, embed=None, show=False, save_frames=False, save_txt=False, save_conf=False, save_crop=False, show_labels=True, show_conf=True, show_boxes=True, line_width=None, format=torchscript, keras=False, optimize=False, int8=False, dynamic=False, simplify=True, opset=None, workspace=4, nms=False, lr0=0.01, lrf=0.01, momentum=0.937, weight_decay=0.0005, warmup_epochs=3.0, warmup_momentum=0.8, warmup_bias_lr=0.0, box=7.5, cls=0.5, dfl=1.5, pose=12.0, kobj=1.0, label_smoothing=0.0, nbs=64, hsv_h=0.015, hsv_s=0.7, hsv_v=0.4, degrees=0.0, translate=0.1, scale=0.5, shear=0.0, perspective=0.0, flipud=0.0, fliplr=0.5, bgr=0.0, mosaic=0.0, mixup=0.0, copy_paste=0.0, auto_augment=randaugment, erasing=0.4, crop_fraction=1.0, cfg=None, tracker=botsort.yaml, save_dir=runs/segment/train4222\n",
            "\n",
            "                   from  n    params  module                                       arguments                     \n",
            "  0                  -1  1      1392  ultralytics.nn.modules.conv.Conv             [3, 48, 3, 2]                 \n",
            "  1                  -1  1     41664  ultralytics.nn.modules.conv.Conv             [48, 96, 3, 2]                \n",
            "  2                  -1  2    111360  ultralytics.nn.modules.block.C2f             [96, 96, 2, True]             \n",
            "  3                  -1  1    166272  ultralytics.nn.modules.conv.Conv             [96, 192, 3, 2]               \n",
            "  4                  -1  4    813312  ultralytics.nn.modules.block.C2f             [192, 192, 4, True]           \n",
            "  5                  -1  1    664320  ultralytics.nn.modules.conv.Conv             [192, 384, 3, 2]              \n",
            "  6                  -1  4   3248640  ultralytics.nn.modules.block.C2f             [384, 384, 4, True]           \n",
            "  7                  -1  1   1991808  ultralytics.nn.modules.conv.Conv             [384, 576, 3, 2]              \n",
            "  8                  -1  2   3985920  ultralytics.nn.modules.block.C2f             [576, 576, 2, True]           \n",
            "  9                  -1  1    831168  ultralytics.nn.modules.block.SPPF            [576, 576, 5]                 \n",
            " 10                  -1  1         0  torch.nn.modules.upsampling.Upsample         [None, 2, 'nearest']          \n",
            " 11             [-1, 6]  1         0  ultralytics.nn.modules.conv.Concat           [1]                           \n",
            " 12                  -1  2   1993728  ultralytics.nn.modules.block.C2f             [960, 384, 2]                 \n",
            " 13                  -1  1         0  torch.nn.modules.upsampling.Upsample         [None, 2, 'nearest']          \n",
            " 14             [-1, 4]  1         0  ultralytics.nn.modules.conv.Concat           [1]                           \n",
            " 15                  -1  2    517632  ultralytics.nn.modules.block.C2f             [576, 192, 2]                 \n",
            " 16                  -1  1    332160  ultralytics.nn.modules.conv.Conv             [192, 192, 3, 2]              \n",
            " 17            [-1, 12]  1         0  ultralytics.nn.modules.conv.Concat           [1]                           \n",
            " 18                  -1  2   1846272  ultralytics.nn.modules.block.C2f             [576, 384, 2]                 \n",
            " 19                  -1  1   1327872  ultralytics.nn.modules.conv.Conv             [384, 384, 3, 2]              \n",
            " 20             [-1, 9]  1         0  ultralytics.nn.modules.conv.Concat           [1]                           \n",
            " 21                  -1  2   4207104  ultralytics.nn.modules.block.C2f             [960, 576, 2]                 \n",
            " 22        [15, 18, 21]  1   5159603  ultralytics.nn.modules.head.Segment          [1, 32, 192, [192, 384, 576]] \n",
            "YOLOv8m-seg summary: 331 layers, 27,240,227 parameters, 27,240,211 gradients, 110.4 GFLOPs\n",
            "\n",
            "Transferred 537/537 items from pretrained weights\n",
            "\u001b[34m\u001b[1mTensorBoard: \u001b[0mStart with 'tensorboard --logdir runs/segment/train4222', view at http://localhost:6006/\n",
            "Freezing layer 'model.22.dfl.conv.weight'\n",
            "\u001b[34m\u001b[1mAMP: \u001b[0mrunning Automatic Mixed Precision (AMP) checks with YOLOv8n...\n",
            "\u001b[34m\u001b[1mAMP: \u001b[0mchecks passed ✅\n",
            "\u001b[34m\u001b[1mAutoBatch: \u001b[0mComputing optimal batch size for imgsz=1280 at 90.0% CUDA memory utilization.\n",
            "\u001b[34m\u001b[1mAutoBatch: \u001b[0mCUDA:0 (NVIDIA L4) 22.17G total, 3.51G reserved, 1.02G allocated, 17.63G free\n",
            "      Params      GFLOPs  GPU_mem (GB)  forward (ms) backward (ms)                   input                  output\n",
            "    27240227       441.6         4.308         31.76           nan      (1, 3, 1280, 1280)                    list\n",
            "    27240227       883.1         7.017         56.83           nan      (2, 3, 1280, 1280)                    list\n",
            "    27240227        1766        13.327         119.9           nan      (4, 3, 1280, 1280)                    list\n",
            "CUDA out of memory. Tried to allocate 76.00 MiB. GPU 0 has a total capacity of 22.17 GiB of which 42.88 MiB is free. Process 3786 has 22.10 GiB memory in use. Of the allocated memory 21.29 GiB is allocated by PyTorch, and 512.13 MiB is reserved by PyTorch but unallocated. If reserved but unallocated memory is large try setting PYTORCH_CUDA_ALLOC_CONF=expandable_segments:True to avoid fragmentation.  See documentation for Memory Management  (https://pytorch.org/docs/stable/notes/cuda.html#environment-variables)\n",
            "CUDA out of memory. Tried to allocate 76.00 MiB. GPU 0 has a total capacity of 22.17 GiB of which 26.88 MiB is free. Process 3786 has 22.11 GiB memory in use. Of the allocated memory 20.50 GiB is allocated by PyTorch, and 1.31 GiB is reserved by PyTorch but unallocated. If reserved but unallocated memory is large try setting PYTORCH_CUDA_ALLOC_CONF=expandable_segments:True to avoid fragmentation.  See documentation for Memory Management  (https://pytorch.org/docs/stable/notes/cuda.html#environment-variables)\n",
            "\u001b[34m\u001b[1mAutoBatch: \u001b[0mUsing batch-size 4 for CUDA:0 17.80G/22.17G (80%) ✅\n"
          ]
        },
        {
          "output_type": "stream",
          "name": "stderr",
          "text": [
            "\u001b[34m\u001b[1mtrain: \u001b[0mScanning /content/Data/train/labels.cache... 46 images, 0 backgrounds, 0 corrupt: 100%|██████████| 46/46 [00:00<?, ?it/s]"
          ]
        },
        {
          "output_type": "stream",
          "name": "stdout",
          "text": [
            "\u001b[34m\u001b[1malbumentations: \u001b[0mBlur(p=0.01, blur_limit=(3, 7)), MedianBlur(p=0.01, blur_limit=(3, 7)), ToGray(p=0.01, num_output_channels=3, method='weighted_average'), CLAHE(p=0.01, clip_limit=(1, 4.0), tile_grid_size=(8, 8))\n"
          ]
        },
        {
          "output_type": "stream",
          "name": "stderr",
          "text": [
            "\n",
            "\u001b[34m\u001b[1mval: \u001b[0mScanning /content/Data/val/labels.cache... 13 images, 0 backgrounds, 0 corrupt: 100%|██████████| 13/13 [00:00<?, ?it/s]\n"
          ]
        },
        {
          "output_type": "stream",
          "name": "stdout",
          "text": [
            "Plotting labels to runs/segment/train4222/labels.jpg... \n",
            "\u001b[34m\u001b[1moptimizer:\u001b[0m 'optimizer=auto' found, ignoring 'lr0=0.01' and 'momentum=0.937' and determining best 'optimizer', 'lr0' and 'momentum' automatically... \n",
            "\u001b[34m\u001b[1moptimizer:\u001b[0m AdamW(lr=0.002, momentum=0.9) with parameter groups 86 weight(decay=0.0), 97 weight(decay=0.0005), 96 bias(decay=0.0)\n",
            "\u001b[34m\u001b[1mTensorBoard: \u001b[0mmodel graph visualization added ✅\n",
            "Image sizes 1280 train, 1280 val\n",
            "Using 8 dataloader workers\n",
            "Logging results to \u001b[1mruns/segment/train4222\u001b[0m\n",
            "Starting training for 100 epochs...\n",
            "\n",
            "      Epoch    GPU_mem   box_loss   seg_loss   cls_loss   dfl_loss  Instances       Size\n"
          ]
        },
        {
          "output_type": "stream",
          "name": "stderr",
          "text": [
            "      1/100      15.3G      1.807      1.892      1.362       2.22         11       1280: 100%|██████████| 12/12 [00:05<00:00,  2.34it/s]\n",
            "                 Class     Images  Instances      Box(P          R      mAP50  mAP50-95)     Mask(P          R      mAP50  mAP50-95): 100%|██████████| 2/2 [00:00<00:00,  3.51it/s]"
          ]
        },
        {
          "output_type": "stream",
          "name": "stdout",
          "text": [
            "                   all         13         98      0.492      0.614      0.543      0.236     0.0282      0.051    0.00467    0.00111\n"
          ]
        },
        {
          "output_type": "stream",
          "name": "stderr",
          "text": [
            "\n"
          ]
        },
        {
          "output_type": "stream",
          "name": "stdout",
          "text": [
            "\n",
            "      Epoch    GPU_mem   box_loss   seg_loss   cls_loss   dfl_loss  Instances       Size\n"
          ]
        },
        {
          "output_type": "stream",
          "name": "stderr",
          "text": [
            "      2/100      7.97G      1.877      1.985      1.371       2.32         21       1280: 100%|██████████| 12/12 [00:04<00:00,  2.55it/s]\n",
            "                 Class     Images  Instances      Box(P          R      mAP50  mAP50-95)     Mask(P          R      mAP50  mAP50-95): 100%|██████████| 2/2 [00:00<00:00,  5.07it/s]"
          ]
        },
        {
          "output_type": "stream",
          "name": "stdout",
          "text": [
            "                   all         13         98      0.401      0.525      0.422      0.176     0.0165      0.051    0.00366   0.000919\n"
          ]
        },
        {
          "output_type": "stream",
          "name": "stderr",
          "text": [
            "\n"
          ]
        },
        {
          "output_type": "stream",
          "name": "stdout",
          "text": [
            "\n",
            "      Epoch    GPU_mem   box_loss   seg_loss   cls_loss   dfl_loss  Instances       Size\n"
          ]
        },
        {
          "output_type": "stream",
          "name": "stderr",
          "text": [
            "      3/100      7.82G      1.836      1.986      1.381      2.257         14       1280: 100%|██████████| 12/12 [00:04<00:00,  2.60it/s]\n",
            "                 Class     Images  Instances      Box(P          R      mAP50  mAP50-95)     Mask(P          R      mAP50  mAP50-95): 100%|██████████| 2/2 [00:00<00:00,  5.13it/s]"
          ]
        },
        {
          "output_type": "stream",
          "name": "stdout",
          "text": [
            "                   all         13         98      0.466      0.561      0.486      0.195     0.0214     0.0795    0.00454    0.00118\n"
          ]
        },
        {
          "output_type": "stream",
          "name": "stderr",
          "text": [
            "\n"
          ]
        },
        {
          "output_type": "stream",
          "name": "stdout",
          "text": [
            "\n",
            "      Epoch    GPU_mem   box_loss   seg_loss   cls_loss   dfl_loss  Instances       Size\n"
          ]
        },
        {
          "output_type": "stream",
          "name": "stderr",
          "text": [
            "      4/100      8.06G      1.896      1.958      1.381      2.343         12       1280: 100%|██████████| 12/12 [00:04<00:00,  2.63it/s]\n",
            "                 Class     Images  Instances      Box(P          R      mAP50  mAP50-95)     Mask(P          R      mAP50  mAP50-95): 100%|██████████| 2/2 [00:00<00:00,  5.58it/s]"
          ]
        },
        {
          "output_type": "stream",
          "name": "stdout",
          "text": [
            "                   all         13         98       0.47      0.498      0.457      0.173     0.0216     0.0714    0.00541    0.00122\n"
          ]
        },
        {
          "output_type": "stream",
          "name": "stderr",
          "text": [
            "\n"
          ]
        },
        {
          "output_type": "stream",
          "name": "stdout",
          "text": [
            "\n",
            "      Epoch    GPU_mem   box_loss   seg_loss   cls_loss   dfl_loss  Instances       Size\n"
          ]
        },
        {
          "output_type": "stream",
          "name": "stderr",
          "text": [
            "      5/100      7.99G      1.975      2.017      1.403       2.37         30       1280: 100%|██████████| 12/12 [00:04<00:00,  2.59it/s]\n",
            "                 Class     Images  Instances      Box(P          R      mAP50  mAP50-95)     Mask(P          R      mAP50  mAP50-95): 100%|██████████| 2/2 [00:00<00:00,  5.23it/s]"
          ]
        },
        {
          "output_type": "stream",
          "name": "stdout",
          "text": [
            "                   all         13         98      0.437      0.612        0.5      0.194    0.00304     0.0102    0.00104   0.000206\n"
          ]
        },
        {
          "output_type": "stream",
          "name": "stderr",
          "text": [
            "\n"
          ]
        },
        {
          "output_type": "stream",
          "name": "stdout",
          "text": [
            "\n",
            "      Epoch    GPU_mem   box_loss   seg_loss   cls_loss   dfl_loss  Instances       Size\n"
          ]
        },
        {
          "output_type": "stream",
          "name": "stderr",
          "text": [
            "      6/100      7.97G      1.852      2.028      1.379      2.347         13       1280: 100%|██████████| 12/12 [00:04<00:00,  2.66it/s]\n",
            "                 Class     Images  Instances      Box(P          R      mAP50  mAP50-95)     Mask(P          R      mAP50  mAP50-95): 100%|██████████| 2/2 [00:00<00:00,  4.88it/s]"
          ]
        },
        {
          "output_type": "stream",
          "name": "stdout",
          "text": [
            "                   all         13         98      0.342      0.602      0.391      0.155     0.0235      0.051    0.00276    0.00058\n"
          ]
        },
        {
          "output_type": "stream",
          "name": "stderr",
          "text": [
            "\n"
          ]
        },
        {
          "output_type": "stream",
          "name": "stdout",
          "text": [
            "\n",
            "      Epoch    GPU_mem   box_loss   seg_loss   cls_loss   dfl_loss  Instances       Size\n"
          ]
        },
        {
          "output_type": "stream",
          "name": "stderr",
          "text": [
            "      7/100      7.87G      1.917      2.006      1.451      2.351          9       1280: 100%|██████████| 12/12 [00:04<00:00,  2.69it/s]\n",
            "                 Class     Images  Instances      Box(P          R      mAP50  mAP50-95)     Mask(P          R      mAP50  mAP50-95): 100%|██████████| 2/2 [00:00<00:00,  5.27it/s]"
          ]
        },
        {
          "output_type": "stream",
          "name": "stdout",
          "text": [
            "                   all         13         98      0.342      0.602      0.391      0.155     0.0235      0.051    0.00276    0.00058\n"
          ]
        },
        {
          "output_type": "stream",
          "name": "stderr",
          "text": [
            "\n"
          ]
        },
        {
          "output_type": "stream",
          "name": "stdout",
          "text": [
            "\n",
            "      Epoch    GPU_mem   box_loss   seg_loss   cls_loss   dfl_loss  Instances       Size\n"
          ]
        },
        {
          "output_type": "stream",
          "name": "stderr",
          "text": [
            "      8/100      8.04G          2      2.063      1.445      2.465         22       1280: 100%|██████████| 12/12 [00:04<00:00,  2.69it/s]\n",
            "                 Class     Images  Instances      Box(P          R      mAP50  mAP50-95)     Mask(P          R      mAP50  mAP50-95): 100%|██████████| 2/2 [00:00<00:00,  5.27it/s]"
          ]
        },
        {
          "output_type": "stream",
          "name": "stdout",
          "text": [
            "                   all         13         98      0.319      0.603      0.347      0.135    0.00957     0.0306    0.00175   0.000355\n"
          ]
        },
        {
          "output_type": "stream",
          "name": "stderr",
          "text": [
            "\n"
          ]
        },
        {
          "output_type": "stream",
          "name": "stdout",
          "text": [
            "\n",
            "      Epoch    GPU_mem   box_loss   seg_loss   cls_loss   dfl_loss  Instances       Size\n"
          ]
        },
        {
          "output_type": "stream",
          "name": "stderr",
          "text": [
            "      9/100      7.98G       2.02      1.957      1.457      2.453         12       1280: 100%|██████████| 12/12 [00:04<00:00,  2.67it/s]\n",
            "                 Class     Images  Instances      Box(P          R      mAP50  mAP50-95)     Mask(P          R      mAP50  mAP50-95): 100%|██████████| 2/2 [00:00<00:00,  5.20it/s]"
          ]
        },
        {
          "output_type": "stream",
          "name": "stdout",
          "text": [
            "                   all         13         98      0.347      0.531      0.397      0.145    0.00169     0.0102    0.00075   0.000187\n"
          ]
        },
        {
          "output_type": "stream",
          "name": "stderr",
          "text": [
            "\n"
          ]
        },
        {
          "output_type": "stream",
          "name": "stdout",
          "text": [
            "\n",
            "      Epoch    GPU_mem   box_loss   seg_loss   cls_loss   dfl_loss  Instances       Size\n"
          ]
        },
        {
          "output_type": "stream",
          "name": "stderr",
          "text": [
            "     10/100         8G      1.946      2.078      1.471      2.445         27       1280: 100%|██████████| 12/12 [00:04<00:00,  2.66it/s]\n",
            "                 Class     Images  Instances      Box(P          R      mAP50  mAP50-95)     Mask(P          R      mAP50  mAP50-95): 100%|██████████| 2/2 [00:00<00:00,  5.21it/s]"
          ]
        },
        {
          "output_type": "stream",
          "name": "stdout",
          "text": [
            "                   all         13         98      0.337       0.52      0.339      0.121     0.0196     0.0204    0.00214    0.00072\n"
          ]
        },
        {
          "output_type": "stream",
          "name": "stderr",
          "text": [
            "\n"
          ]
        },
        {
          "output_type": "stream",
          "name": "stdout",
          "text": [
            "\n",
            "      Epoch    GPU_mem   box_loss   seg_loss   cls_loss   dfl_loss  Instances       Size\n"
          ]
        },
        {
          "output_type": "stream",
          "name": "stderr",
          "text": [
            "     11/100      8.63G      1.971      2.039      1.419       2.32         22       1280: 100%|██████████| 12/12 [00:04<00:00,  2.69it/s]\n",
            "                 Class     Images  Instances      Box(P          R      mAP50  mAP50-95)     Mask(P          R      mAP50  mAP50-95): 100%|██████████| 2/2 [00:00<00:00,  5.10it/s]"
          ]
        },
        {
          "output_type": "stream",
          "name": "stdout",
          "text": [
            "                   all         13         98      0.337       0.52      0.339      0.121     0.0196     0.0204    0.00214    0.00072\n"
          ]
        },
        {
          "output_type": "stream",
          "name": "stderr",
          "text": [
            "\n"
          ]
        },
        {
          "output_type": "stream",
          "name": "stdout",
          "text": [
            "\n",
            "      Epoch    GPU_mem   box_loss   seg_loss   cls_loss   dfl_loss  Instances       Size\n"
          ]
        },
        {
          "output_type": "stream",
          "name": "stderr",
          "text": [
            "     12/100      8.23G      1.918      2.085      1.395      2.335         15       1280: 100%|██████████| 12/12 [00:04<00:00,  2.69it/s]\n",
            "                 Class     Images  Instances      Box(P          R      mAP50  mAP50-95)     Mask(P          R      mAP50  mAP50-95): 100%|██████████| 2/2 [00:00<00:00,  5.33it/s]"
          ]
        },
        {
          "output_type": "stream",
          "name": "stdout",
          "text": [
            "                   all         13         98      0.345      0.571       0.39      0.151     0.0381     0.0306    0.00455   0.000851\n"
          ]
        },
        {
          "output_type": "stream",
          "name": "stderr",
          "text": [
            "\n"
          ]
        },
        {
          "output_type": "stream",
          "name": "stdout",
          "text": [
            "\n",
            "      Epoch    GPU_mem   box_loss   seg_loss   cls_loss   dfl_loss  Instances       Size\n"
          ]
        },
        {
          "output_type": "stream",
          "name": "stderr",
          "text": [
            "     13/100      7.99G      1.934      2.075      1.394      2.365         24       1280: 100%|██████████| 12/12 [00:04<00:00,  2.69it/s]\n",
            "                 Class     Images  Instances      Box(P          R      mAP50  mAP50-95)     Mask(P          R      mAP50  mAP50-95): 100%|██████████| 2/2 [00:00<00:00,  5.20it/s]"
          ]
        },
        {
          "output_type": "stream",
          "name": "stdout",
          "text": [
            "                   all         13         98      0.415      0.636      0.485      0.183     0.0172     0.0204    0.00744    0.00105\n"
          ]
        },
        {
          "output_type": "stream",
          "name": "stderr",
          "text": [
            "\n"
          ]
        },
        {
          "output_type": "stream",
          "name": "stdout",
          "text": [
            "\n",
            "      Epoch    GPU_mem   box_loss   seg_loss   cls_loss   dfl_loss  Instances       Size\n"
          ]
        },
        {
          "output_type": "stream",
          "name": "stderr",
          "text": [
            "     14/100      8.41G       1.92      2.066      1.413      2.367         12       1280: 100%|██████████| 12/12 [00:04<00:00,  2.66it/s]\n",
            "                 Class     Images  Instances      Box(P          R      mAP50  mAP50-95)     Mask(P          R      mAP50  mAP50-95): 100%|██████████| 2/2 [00:00<00:00,  5.17it/s]"
          ]
        },
        {
          "output_type": "stream",
          "name": "stdout",
          "text": [
            "                   all         13         98      0.365      0.531      0.437      0.185     0.0129     0.0612    0.00318   0.000801\n"
          ]
        },
        {
          "output_type": "stream",
          "name": "stderr",
          "text": [
            "\n"
          ]
        },
        {
          "output_type": "stream",
          "name": "stdout",
          "text": [
            "\n",
            "      Epoch    GPU_mem   box_loss   seg_loss   cls_loss   dfl_loss  Instances       Size\n"
          ]
        },
        {
          "output_type": "stream",
          "name": "stderr",
          "text": [
            "     15/100      8.18G      1.906      1.993      1.409      2.324         12       1280: 100%|██████████| 12/12 [00:04<00:00,  2.68it/s]\n",
            "                 Class     Images  Instances      Box(P          R      mAP50  mAP50-95)     Mask(P          R      mAP50  mAP50-95): 100%|██████████| 2/2 [00:00<00:00,  5.38it/s]"
          ]
        },
        {
          "output_type": "stream",
          "name": "stdout",
          "text": [
            "                   all         13         98      0.365      0.531      0.437      0.185     0.0129     0.0612    0.00318   0.000801\n"
          ]
        },
        {
          "output_type": "stream",
          "name": "stderr",
          "text": [
            "\n"
          ]
        },
        {
          "output_type": "stream",
          "name": "stdout",
          "text": [
            "\n",
            "      Epoch    GPU_mem   box_loss   seg_loss   cls_loss   dfl_loss  Instances       Size\n"
          ]
        },
        {
          "output_type": "stream",
          "name": "stderr",
          "text": [
            "     16/100      8.07G       1.89      2.034      1.423      2.322          7       1280: 100%|██████████| 12/12 [00:04<00:00,  2.64it/s]\n",
            "                 Class     Images  Instances      Box(P          R      mAP50  mAP50-95)     Mask(P          R      mAP50  mAP50-95): 100%|██████████| 2/2 [00:00<00:00,  5.43it/s]"
          ]
        },
        {
          "output_type": "stream",
          "name": "stdout",
          "text": [
            "                   all         13         98      0.437      0.611      0.454      0.182     0.0124     0.0408    0.00319   0.000793\n"
          ]
        },
        {
          "output_type": "stream",
          "name": "stderr",
          "text": [
            "\n"
          ]
        },
        {
          "output_type": "stream",
          "name": "stdout",
          "text": [
            "\n",
            "      Epoch    GPU_mem   box_loss   seg_loss   cls_loss   dfl_loss  Instances       Size\n"
          ]
        },
        {
          "output_type": "stream",
          "name": "stderr",
          "text": [
            "     17/100      8.17G      1.909      2.021      1.408      2.336          8       1280: 100%|██████████| 12/12 [00:04<00:00,  2.66it/s]\n",
            "                 Class     Images  Instances      Box(P          R      mAP50  mAP50-95)     Mask(P          R      mAP50  mAP50-95): 100%|██████████| 2/2 [00:00<00:00,  5.58it/s]"
          ]
        },
        {
          "output_type": "stream",
          "name": "stdout",
          "text": [
            "                   all         13         98       0.41      0.418      0.436      0.176    0.00649     0.0204    0.00271     0.0007\n"
          ]
        },
        {
          "output_type": "stream",
          "name": "stderr",
          "text": [
            "\n"
          ]
        },
        {
          "output_type": "stream",
          "name": "stdout",
          "text": [
            "\n",
            "      Epoch    GPU_mem   box_loss   seg_loss   cls_loss   dfl_loss  Instances       Size\n"
          ]
        },
        {
          "output_type": "stream",
          "name": "stderr",
          "text": [
            "     18/100      8.08G      1.874      2.035      1.377       2.37         31       1280: 100%|██████████| 12/12 [00:04<00:00,  2.67it/s]\n",
            "                 Class     Images  Instances      Box(P          R      mAP50  mAP50-95)     Mask(P          R      mAP50  mAP50-95): 100%|██████████| 2/2 [00:00<00:00,  5.48it/s]"
          ]
        },
        {
          "output_type": "stream",
          "name": "stdout",
          "text": [
            "                   all         13         98      0.406      0.561      0.468      0.202     0.0146     0.0408     0.0027    0.00074\n"
          ]
        },
        {
          "output_type": "stream",
          "name": "stderr",
          "text": [
            "\n"
          ]
        },
        {
          "output_type": "stream",
          "name": "stdout",
          "text": [
            "\n",
            "      Epoch    GPU_mem   box_loss   seg_loss   cls_loss   dfl_loss  Instances       Size\n"
          ]
        },
        {
          "output_type": "stream",
          "name": "stderr",
          "text": [
            "     19/100      8.04G      1.888      1.985       1.39      2.334         15       1280: 100%|██████████| 12/12 [00:04<00:00,  2.69it/s]\n",
            "                 Class     Images  Instances      Box(P          R      mAP50  mAP50-95)     Mask(P          R      mAP50  mAP50-95): 100%|██████████| 2/2 [00:00<00:00,  5.45it/s]"
          ]
        },
        {
          "output_type": "stream",
          "name": "stdout",
          "text": [
            "                   all         13         98      0.406      0.561      0.468      0.202     0.0146     0.0408     0.0027    0.00074\n"
          ]
        },
        {
          "output_type": "stream",
          "name": "stderr",
          "text": [
            "\n"
          ]
        },
        {
          "output_type": "stream",
          "name": "stdout",
          "text": [
            "\n",
            "      Epoch    GPU_mem   box_loss   seg_loss   cls_loss   dfl_loss  Instances       Size\n"
          ]
        },
        {
          "output_type": "stream",
          "name": "stderr",
          "text": [
            "     20/100      8.01G      1.912      1.986      1.376      2.317         10       1280: 100%|██████████| 12/12 [00:04<00:00,  2.64it/s]\n",
            "                 Class     Images  Instances      Box(P          R      mAP50  mAP50-95)     Mask(P          R      mAP50  mAP50-95): 100%|██████████| 2/2 [00:00<00:00,  5.41it/s]"
          ]
        },
        {
          "output_type": "stream",
          "name": "stdout",
          "text": [
            "                   all         13         98      0.292      0.584      0.345       0.14     0.0454     0.0612    0.00961    0.00166\n"
          ]
        },
        {
          "output_type": "stream",
          "name": "stderr",
          "text": [
            "\n"
          ]
        },
        {
          "output_type": "stream",
          "name": "stdout",
          "text": [
            "\n",
            "      Epoch    GPU_mem   box_loss   seg_loss   cls_loss   dfl_loss  Instances       Size\n"
          ]
        },
        {
          "output_type": "stream",
          "name": "stderr",
          "text": [
            "     21/100      7.99G       1.97      1.991      1.408      2.379          9       1280: 100%|██████████| 12/12 [00:04<00:00,  2.69it/s]\n",
            "                 Class     Images  Instances      Box(P          R      mAP50  mAP50-95)     Mask(P          R      mAP50  mAP50-95): 100%|██████████| 2/2 [00:00<00:00,  5.23it/s]"
          ]
        },
        {
          "output_type": "stream",
          "name": "stdout",
          "text": [
            "                   all         13         98      0.353        0.5      0.361      0.143       0.12     0.0408     0.0182    0.00248\n"
          ]
        },
        {
          "output_type": "stream",
          "name": "stderr",
          "text": [
            "\n"
          ]
        },
        {
          "output_type": "stream",
          "name": "stdout",
          "text": [
            "\n",
            "      Epoch    GPU_mem   box_loss   seg_loss   cls_loss   dfl_loss  Instances       Size\n"
          ]
        },
        {
          "output_type": "stream",
          "name": "stderr",
          "text": [
            "     22/100      7.99G      1.851      1.972      1.391      2.292         16       1280: 100%|██████████| 12/12 [00:04<00:00,  2.69it/s]\n",
            "                 Class     Images  Instances      Box(P          R      mAP50  mAP50-95)     Mask(P          R      mAP50  mAP50-95): 100%|██████████| 2/2 [00:00<00:00,  5.21it/s]"
          ]
        },
        {
          "output_type": "stream",
          "name": "stdout",
          "text": [
            "                   all         13         98      0.408      0.618      0.382      0.169      0.096     0.0408     0.0147    0.00194\n"
          ]
        },
        {
          "output_type": "stream",
          "name": "stderr",
          "text": [
            "\n"
          ]
        },
        {
          "output_type": "stream",
          "name": "stdout",
          "text": [
            "\n",
            "      Epoch    GPU_mem   box_loss   seg_loss   cls_loss   dfl_loss  Instances       Size\n"
          ]
        },
        {
          "output_type": "stream",
          "name": "stderr",
          "text": [
            "     23/100      8.22G      1.812      1.978      1.362      2.294         20       1280: 100%|██████████| 12/12 [00:04<00:00,  2.66it/s]\n",
            "                 Class     Images  Instances      Box(P          R      mAP50  mAP50-95)     Mask(P          R      mAP50  mAP50-95): 100%|██████████| 2/2 [00:00<00:00,  5.34it/s]"
          ]
        },
        {
          "output_type": "stream",
          "name": "stdout",
          "text": [
            "                   all         13         98      0.408      0.618      0.382      0.169      0.096     0.0408     0.0147    0.00194\n"
          ]
        },
        {
          "output_type": "stream",
          "name": "stderr",
          "text": [
            "\n"
          ]
        },
        {
          "output_type": "stream",
          "name": "stdout",
          "text": [
            "\n",
            "      Epoch    GPU_mem   box_loss   seg_loss   cls_loss   dfl_loss  Instances       Size\n"
          ]
        },
        {
          "output_type": "stream",
          "name": "stderr",
          "text": [
            "     24/100       8.2G       1.79      2.062      1.351      2.265         16       1280: 100%|██████████| 12/12 [00:04<00:00,  2.66it/s]\n",
            "                 Class     Images  Instances      Box(P          R      mAP50  mAP50-95)     Mask(P          R      mAP50  mAP50-95): 100%|██████████| 2/2 [00:00<00:00,  5.19it/s]"
          ]
        },
        {
          "output_type": "stream",
          "name": "stdout",
          "text": [
            "                   all         13         98      0.441      0.561       0.43      0.191     0.0365     0.0306    0.00933    0.00203\n"
          ]
        },
        {
          "output_type": "stream",
          "name": "stderr",
          "text": [
            "\n"
          ]
        },
        {
          "output_type": "stream",
          "name": "stdout",
          "text": [
            "\n",
            "      Epoch    GPU_mem   box_loss   seg_loss   cls_loss   dfl_loss  Instances       Size\n"
          ]
        },
        {
          "output_type": "stream",
          "name": "stderr",
          "text": [
            "     25/100      7.95G      1.919      1.995      1.395      2.304          8       1280: 100%|██████████| 12/12 [00:04<00:00,  2.68it/s]\n",
            "                 Class     Images  Instances      Box(P          R      mAP50  mAP50-95)     Mask(P          R      mAP50  mAP50-95): 100%|██████████| 2/2 [00:00<00:00,  5.21it/s]"
          ]
        },
        {
          "output_type": "stream",
          "name": "stdout",
          "text": [
            "                   all         13         98       0.39      0.643      0.416      0.179     0.0554     0.0306    0.00969    0.00172\n"
          ]
        },
        {
          "output_type": "stream",
          "name": "stderr",
          "text": [
            "\n"
          ]
        },
        {
          "output_type": "stream",
          "name": "stdout",
          "text": [
            "\n",
            "      Epoch    GPU_mem   box_loss   seg_loss   cls_loss   dfl_loss  Instances       Size\n"
          ]
        },
        {
          "output_type": "stream",
          "name": "stderr",
          "text": [
            "     26/100      8.35G      1.914       1.96      1.369      2.361         13       1280: 100%|██████████| 12/12 [00:04<00:00,  2.67it/s]\n",
            "                 Class     Images  Instances      Box(P          R      mAP50  mAP50-95)     Mask(P          R      mAP50  mAP50-95): 100%|██████████| 2/2 [00:00<00:00,  4.95it/s]"
          ]
        },
        {
          "output_type": "stream",
          "name": "stdout",
          "text": [
            "                   all         13         98      0.394      0.602      0.474      0.196     0.0333     0.0306     0.0034   0.000647\n"
          ]
        },
        {
          "output_type": "stream",
          "name": "stderr",
          "text": [
            "\n"
          ]
        },
        {
          "output_type": "stream",
          "name": "stdout",
          "text": [
            "\n",
            "      Epoch    GPU_mem   box_loss   seg_loss   cls_loss   dfl_loss  Instances       Size\n"
          ]
        },
        {
          "output_type": "stream",
          "name": "stderr",
          "text": [
            "     27/100       8.1G       1.83      1.862       1.35      2.232         10       1280: 100%|██████████| 12/12 [00:04<00:00,  2.69it/s]\n",
            "                 Class     Images  Instances      Box(P          R      mAP50  mAP50-95)     Mask(P          R      mAP50  mAP50-95): 100%|██████████| 2/2 [00:00<00:00,  5.32it/s]"
          ]
        },
        {
          "output_type": "stream",
          "name": "stdout",
          "text": [
            "                   all         13         98      0.394      0.602      0.474      0.196     0.0333     0.0306     0.0034   0.000647\n"
          ]
        },
        {
          "output_type": "stream",
          "name": "stderr",
          "text": [
            "\n"
          ]
        },
        {
          "output_type": "stream",
          "name": "stdout",
          "text": [
            "\n",
            "      Epoch    GPU_mem   box_loss   seg_loss   cls_loss   dfl_loss  Instances       Size\n"
          ]
        },
        {
          "output_type": "stream",
          "name": "stderr",
          "text": [
            "     28/100      8.08G      1.832      1.873      1.291      2.251         13       1280: 100%|██████████| 12/12 [00:04<00:00,  2.67it/s]\n",
            "                 Class     Images  Instances      Box(P          R      mAP50  mAP50-95)     Mask(P          R      mAP50  mAP50-95): 100%|██████████| 2/2 [00:00<00:00,  5.22it/s]"
          ]
        },
        {
          "output_type": "stream",
          "name": "stdout",
          "text": [
            "                   all         13         98      0.552      0.612      0.547      0.238    0.00842     0.0102    0.00147    0.00037\n"
          ]
        },
        {
          "output_type": "stream",
          "name": "stderr",
          "text": [
            "\n"
          ]
        },
        {
          "output_type": "stream",
          "name": "stdout",
          "text": [
            "\n",
            "      Epoch    GPU_mem   box_loss   seg_loss   cls_loss   dfl_loss  Instances       Size\n"
          ]
        },
        {
          "output_type": "stream",
          "name": "stderr",
          "text": [
            "     29/100      7.98G      1.828      1.899       1.33       2.23          6       1280: 100%|██████████| 12/12 [00:04<00:00,  2.67it/s]\n",
            "                 Class     Images  Instances      Box(P          R      mAP50  mAP50-95)     Mask(P          R      mAP50  mAP50-95): 100%|██████████| 2/2 [00:00<00:00,  5.31it/s]"
          ]
        },
        {
          "output_type": "stream",
          "name": "stdout",
          "text": [
            "                   all         13         98      0.462      0.553      0.517      0.234     0.0195     0.0204    0.00342   0.000746\n"
          ]
        },
        {
          "output_type": "stream",
          "name": "stderr",
          "text": [
            "\n"
          ]
        },
        {
          "output_type": "stream",
          "name": "stdout",
          "text": [
            "\n",
            "      Epoch    GPU_mem   box_loss   seg_loss   cls_loss   dfl_loss  Instances       Size\n"
          ]
        },
        {
          "output_type": "stream",
          "name": "stderr",
          "text": [
            "     30/100         8G      1.855      1.978      1.327      2.288         16       1280: 100%|██████████| 12/12 [00:04<00:00,  2.68it/s]\n",
            "                 Class     Images  Instances      Box(P          R      mAP50  mAP50-95)     Mask(P          R      mAP50  mAP50-95): 100%|██████████| 2/2 [00:00<00:00,  5.57it/s]"
          ]
        },
        {
          "output_type": "stream",
          "name": "stdout",
          "text": [
            "                   all         13         98      0.435      0.652      0.535       0.24     0.0324     0.0306    0.00355   0.000749\n"
          ]
        },
        {
          "output_type": "stream",
          "name": "stderr",
          "text": [
            "\n"
          ]
        },
        {
          "output_type": "stream",
          "name": "stdout",
          "text": [
            "\n",
            "      Epoch    GPU_mem   box_loss   seg_loss   cls_loss   dfl_loss  Instances       Size\n"
          ]
        },
        {
          "output_type": "stream",
          "name": "stderr",
          "text": [
            "     31/100      8.29G      1.816      1.923      1.318      2.241         11       1280: 100%|██████████| 12/12 [00:04<00:00,  2.68it/s]\n",
            "                 Class     Images  Instances      Box(P          R      mAP50  mAP50-95)     Mask(P          R      mAP50  mAP50-95): 100%|██████████| 2/2 [00:00<00:00,  5.42it/s]"
          ]
        },
        {
          "output_type": "stream",
          "name": "stdout",
          "text": [
            "                   all         13         98      0.435      0.652      0.535       0.24     0.0324     0.0306    0.00355   0.000749\n"
          ]
        },
        {
          "output_type": "stream",
          "name": "stderr",
          "text": [
            "\n"
          ]
        },
        {
          "output_type": "stream",
          "name": "stdout",
          "text": [
            "\n",
            "      Epoch    GPU_mem   box_loss   seg_loss   cls_loss   dfl_loss  Instances       Size\n"
          ]
        },
        {
          "output_type": "stream",
          "name": "stderr",
          "text": [
            "     32/100      8.33G       1.82      1.935       1.36      2.245         26       1280: 100%|██████████| 12/12 [00:04<00:00,  2.65it/s]\n",
            "                 Class     Images  Instances      Box(P          R      mAP50  mAP50-95)     Mask(P          R      mAP50  mAP50-95): 100%|██████████| 2/2 [00:00<00:00,  5.39it/s]"
          ]
        },
        {
          "output_type": "stream",
          "name": "stdout",
          "text": [
            "                   all         13         98       0.43      0.724       0.55       0.23      0.025     0.0306     0.0028   0.000682\n"
          ]
        },
        {
          "output_type": "stream",
          "name": "stderr",
          "text": [
            "\n"
          ]
        },
        {
          "output_type": "stream",
          "name": "stdout",
          "text": [
            "\n",
            "      Epoch    GPU_mem   box_loss   seg_loss   cls_loss   dfl_loss  Instances       Size\n"
          ]
        },
        {
          "output_type": "stream",
          "name": "stderr",
          "text": [
            "     33/100       8.2G       1.88      1.913      1.296      2.227         17       1280: 100%|██████████| 12/12 [00:04<00:00,  2.64it/s]\n",
            "                 Class     Images  Instances      Box(P          R      mAP50  mAP50-95)     Mask(P          R      mAP50  mAP50-95): 100%|██████████| 2/2 [00:00<00:00,  5.54it/s]"
          ]
        },
        {
          "output_type": "stream",
          "name": "stdout",
          "text": [
            "                   all         13         98      0.402      0.786      0.501      0.213     0.0204     0.0306    0.00347    0.00073\n"
          ]
        },
        {
          "output_type": "stream",
          "name": "stderr",
          "text": [
            "\n"
          ]
        },
        {
          "output_type": "stream",
          "name": "stdout",
          "text": [
            "\n",
            "      Epoch    GPU_mem   box_loss   seg_loss   cls_loss   dfl_loss  Instances       Size\n"
          ]
        },
        {
          "output_type": "stream",
          "name": "stderr",
          "text": [
            "     34/100      7.93G      1.827      1.909      1.327      2.238         20       1280: 100%|██████████| 12/12 [00:04<00:00,  2.66it/s]\n",
            "                 Class     Images  Instances      Box(P          R      mAP50  mAP50-95)     Mask(P          R      mAP50  mAP50-95): 100%|██████████| 2/2 [00:00<00:00,  5.60it/s]"
          ]
        },
        {
          "output_type": "stream",
          "name": "stdout",
          "text": [
            "                   all         13         98      0.447      0.704      0.531      0.232     0.0322      0.051    0.00945    0.00186\n"
          ]
        },
        {
          "output_type": "stream",
          "name": "stderr",
          "text": [
            "\n"
          ]
        },
        {
          "output_type": "stream",
          "name": "stdout",
          "text": [
            "\n",
            "      Epoch    GPU_mem   box_loss   seg_loss   cls_loss   dfl_loss  Instances       Size\n"
          ]
        },
        {
          "output_type": "stream",
          "name": "stderr",
          "text": [
            "     35/100      8.02G      1.798      1.875      1.277      2.217         11       1280: 100%|██████████| 12/12 [00:04<00:00,  2.68it/s]\n",
            "                 Class     Images  Instances      Box(P          R      mAP50  mAP50-95)     Mask(P          R      mAP50  mAP50-95): 100%|██████████| 2/2 [00:00<00:00,  5.38it/s]"
          ]
        },
        {
          "output_type": "stream",
          "name": "stdout",
          "text": [
            "                   all         13         98      0.447      0.704      0.531      0.232     0.0322      0.051    0.00945    0.00186\n"
          ]
        },
        {
          "output_type": "stream",
          "name": "stderr",
          "text": [
            "\n"
          ]
        },
        {
          "output_type": "stream",
          "name": "stdout",
          "text": [
            "\n",
            "      Epoch    GPU_mem   box_loss   seg_loss   cls_loss   dfl_loss  Instances       Size\n"
          ]
        },
        {
          "output_type": "stream",
          "name": "stderr",
          "text": [
            "     36/100       7.9G      1.829      1.959      1.348      2.279         22       1280: 100%|██████████| 12/12 [00:04<00:00,  2.67it/s]\n",
            "                 Class     Images  Instances      Box(P          R      mAP50  mAP50-95)     Mask(P          R      mAP50  mAP50-95): 100%|██████████| 2/2 [00:00<00:00,  5.75it/s]"
          ]
        },
        {
          "output_type": "stream",
          "name": "stdout",
          "text": [
            "                   all         13         98      0.521      0.531      0.534       0.24     0.0358     0.0408     0.0228    0.00483\n"
          ]
        },
        {
          "output_type": "stream",
          "name": "stderr",
          "text": [
            "\n"
          ]
        },
        {
          "output_type": "stream",
          "name": "stdout",
          "text": [
            "\n",
            "      Epoch    GPU_mem   box_loss   seg_loss   cls_loss   dfl_loss  Instances       Size\n"
          ]
        },
        {
          "output_type": "stream",
          "name": "stderr",
          "text": [
            "     37/100      8.32G      1.794      1.941      1.267      2.259         16       1280: 100%|██████████| 12/12 [00:04<00:00,  2.59it/s]\n",
            "                 Class     Images  Instances      Box(P          R      mAP50  mAP50-95)     Mask(P          R      mAP50  mAP50-95): 100%|██████████| 2/2 [00:00<00:00,  5.74it/s]"
          ]
        },
        {
          "output_type": "stream",
          "name": "stdout",
          "text": [
            "                   all         13         98      0.534      0.573      0.562       0.25     0.0388     0.0612     0.0228    0.00475\n"
          ]
        },
        {
          "output_type": "stream",
          "name": "stderr",
          "text": [
            "\n"
          ]
        },
        {
          "output_type": "stream",
          "name": "stdout",
          "text": [
            "\n",
            "      Epoch    GPU_mem   box_loss   seg_loss   cls_loss   dfl_loss  Instances       Size\n"
          ]
        },
        {
          "output_type": "stream",
          "name": "stderr",
          "text": [
            "     38/100      7.97G      1.816      1.924      1.249      2.256         15       1280: 100%|██████████| 12/12 [00:04<00:00,  2.69it/s]\n",
            "                 Class     Images  Instances      Box(P          R      mAP50  mAP50-95)     Mask(P          R      mAP50  mAP50-95): 100%|██████████| 2/2 [00:00<00:00,  5.74it/s]"
          ]
        },
        {
          "output_type": "stream",
          "name": "stdout",
          "text": [
            "                   all         13         98      0.521      0.643      0.539      0.244     0.0312     0.0408      0.013     0.0035\n"
          ]
        },
        {
          "output_type": "stream",
          "name": "stderr",
          "text": [
            "\n"
          ]
        },
        {
          "output_type": "stream",
          "name": "stdout",
          "text": [
            "\n",
            "      Epoch    GPU_mem   box_loss   seg_loss   cls_loss   dfl_loss  Instances       Size\n"
          ]
        },
        {
          "output_type": "stream",
          "name": "stderr",
          "text": [
            "     39/100      8.06G        1.8      1.918      1.274      2.233          7       1280: 100%|██████████| 12/12 [00:04<00:00,  2.69it/s]\n",
            "                 Class     Images  Instances      Box(P          R      mAP50  mAP50-95)     Mask(P          R      mAP50  mAP50-95): 100%|██████████| 2/2 [00:00<00:00,  5.46it/s]"
          ]
        },
        {
          "output_type": "stream",
          "name": "stdout",
          "text": [
            "                   all         13         98      0.521      0.643      0.539      0.244     0.0312     0.0408      0.013     0.0035\n"
          ]
        },
        {
          "output_type": "stream",
          "name": "stderr",
          "text": [
            "\n"
          ]
        },
        {
          "output_type": "stream",
          "name": "stdout",
          "text": [
            "\n",
            "      Epoch    GPU_mem   box_loss   seg_loss   cls_loss   dfl_loss  Instances       Size\n"
          ]
        },
        {
          "output_type": "stream",
          "name": "stderr",
          "text": [
            "     40/100      8.07G      1.805      1.917      1.288      2.267         12       1280: 100%|██████████| 12/12 [00:04<00:00,  2.69it/s]\n",
            "                 Class     Images  Instances      Box(P          R      mAP50  mAP50-95)     Mask(P          R      mAP50  mAP50-95): 100%|██████████| 2/2 [00:00<00:00,  5.61it/s]"
          ]
        },
        {
          "output_type": "stream",
          "name": "stdout",
          "text": [
            "                   all         13         98      0.475      0.694       0.53      0.239     0.0283     0.0408     0.0115    0.00236\n"
          ]
        },
        {
          "output_type": "stream",
          "name": "stderr",
          "text": [
            "\n"
          ]
        },
        {
          "output_type": "stream",
          "name": "stdout",
          "text": [
            "\n",
            "      Epoch    GPU_mem   box_loss   seg_loss   cls_loss   dfl_loss  Instances       Size\n"
          ]
        },
        {
          "output_type": "stream",
          "name": "stderr",
          "text": [
            "     41/100       8.1G      1.767      1.929      1.276      2.173         24       1280: 100%|██████████| 12/12 [00:04<00:00,  2.64it/s]\n",
            "                 Class     Images  Instances      Box(P          R      mAP50  mAP50-95)     Mask(P          R      mAP50  mAP50-95): 100%|██████████| 2/2 [00:00<00:00,  5.63it/s]"
          ]
        },
        {
          "output_type": "stream",
          "name": "stdout",
          "text": [
            "                   all         13         98        0.5      0.673      0.539      0.242     0.0522     0.0408     0.0137    0.00381\n"
          ]
        },
        {
          "output_type": "stream",
          "name": "stderr",
          "text": [
            "\n"
          ]
        },
        {
          "output_type": "stream",
          "name": "stdout",
          "text": [
            "\n",
            "      Epoch    GPU_mem   box_loss   seg_loss   cls_loss   dfl_loss  Instances       Size\n"
          ]
        },
        {
          "output_type": "stream",
          "name": "stderr",
          "text": [
            "     42/100      8.19G      1.775      1.899       1.27      2.196          8       1280: 100%|██████████| 12/12 [00:04<00:00,  2.68it/s]\n",
            "                 Class     Images  Instances      Box(P          R      mAP50  mAP50-95)     Mask(P          R      mAP50  mAP50-95): 100%|██████████| 2/2 [00:00<00:00,  5.70it/s]"
          ]
        },
        {
          "output_type": "stream",
          "name": "stdout",
          "text": [
            "                   all         13         98      0.398      0.627      0.487      0.224     0.0288     0.0408     0.0123    0.00365\n"
          ]
        },
        {
          "output_type": "stream",
          "name": "stderr",
          "text": [
            "\n"
          ]
        },
        {
          "output_type": "stream",
          "name": "stdout",
          "text": [
            "\n",
            "      Epoch    GPU_mem   box_loss   seg_loss   cls_loss   dfl_loss  Instances       Size\n"
          ]
        },
        {
          "output_type": "stream",
          "name": "stderr",
          "text": [
            "     43/100      7.97G      1.689      1.839      1.298      2.196         16       1280: 100%|██████████| 12/12 [00:04<00:00,  2.70it/s]\n",
            "                 Class     Images  Instances      Box(P          R      mAP50  mAP50-95)     Mask(P          R      mAP50  mAP50-95): 100%|██████████| 2/2 [00:00<00:00,  5.61it/s]"
          ]
        },
        {
          "output_type": "stream",
          "name": "stdout",
          "text": [
            "                   all         13         98      0.398      0.627      0.487      0.224     0.0288     0.0408     0.0123    0.00365\n"
          ]
        },
        {
          "output_type": "stream",
          "name": "stderr",
          "text": [
            "\n"
          ]
        },
        {
          "output_type": "stream",
          "name": "stdout",
          "text": [
            "\n",
            "      Epoch    GPU_mem   box_loss   seg_loss   cls_loss   dfl_loss  Instances       Size\n"
          ]
        },
        {
          "output_type": "stream",
          "name": "stderr",
          "text": [
            "     44/100       7.9G      1.748      1.934       1.25      2.197         18       1280: 100%|██████████| 12/12 [00:04<00:00,  2.66it/s]\n",
            "                 Class     Images  Instances      Box(P          R      mAP50  mAP50-95)     Mask(P          R      mAP50  mAP50-95): 100%|██████████| 2/2 [00:00<00:00,  5.37it/s]"
          ]
        },
        {
          "output_type": "stream",
          "name": "stdout",
          "text": [
            "                   all         13         98      0.418      0.612      0.529      0.238     0.0339     0.0408     0.0124    0.00362\n"
          ]
        },
        {
          "output_type": "stream",
          "name": "stderr",
          "text": [
            "\n"
          ]
        },
        {
          "output_type": "stream",
          "name": "stdout",
          "text": [
            "\n",
            "      Epoch    GPU_mem   box_loss   seg_loss   cls_loss   dfl_loss  Instances       Size\n"
          ]
        },
        {
          "output_type": "stream",
          "name": "stderr",
          "text": [
            "     45/100      7.99G      1.702      1.918      1.313      2.174         14       1280: 100%|██████████| 12/12 [00:04<00:00,  2.63it/s]\n",
            "                 Class     Images  Instances      Box(P          R      mAP50  mAP50-95)     Mask(P          R      mAP50  mAP50-95): 100%|██████████| 2/2 [00:00<00:00,  5.49it/s]"
          ]
        },
        {
          "output_type": "stream",
          "name": "stdout",
          "text": [
            "                   all         13         98      0.506      0.653      0.539      0.235      0.117     0.0204     0.0235    0.00642\n"
          ]
        },
        {
          "output_type": "stream",
          "name": "stderr",
          "text": [
            "\n"
          ]
        },
        {
          "output_type": "stream",
          "name": "stdout",
          "text": [
            "\n",
            "      Epoch    GPU_mem   box_loss   seg_loss   cls_loss   dfl_loss  Instances       Size\n"
          ]
        },
        {
          "output_type": "stream",
          "name": "stderr",
          "text": [
            "     46/100         8G      1.779      1.891      1.253      2.195         22       1280: 100%|██████████| 12/12 [00:04<00:00,  2.61it/s]\n",
            "                 Class     Images  Instances      Box(P          R      mAP50  mAP50-95)     Mask(P          R      mAP50  mAP50-95): 100%|██████████| 2/2 [00:00<00:00,  5.44it/s]"
          ]
        },
        {
          "output_type": "stream",
          "name": "stdout",
          "text": [
            "                   all         13         98      0.466      0.714      0.519      0.235     0.0639     0.0204     0.0194    0.00408\n"
          ]
        },
        {
          "output_type": "stream",
          "name": "stderr",
          "text": [
            "\n"
          ]
        },
        {
          "output_type": "stream",
          "name": "stdout",
          "text": [
            "\n",
            "      Epoch    GPU_mem   box_loss   seg_loss   cls_loss   dfl_loss  Instances       Size\n"
          ]
        },
        {
          "output_type": "stream",
          "name": "stderr",
          "text": [
            "     47/100      8.44G      1.788      1.867      1.301      2.174         16       1280: 100%|██████████| 12/12 [00:04<00:00,  2.68it/s]\n",
            "                 Class     Images  Instances      Box(P          R      mAP50  mAP50-95)     Mask(P          R      mAP50  mAP50-95): 100%|██████████| 2/2 [00:00<00:00,  5.51it/s]"
          ]
        },
        {
          "output_type": "stream",
          "name": "stdout",
          "text": [
            "                   all         13         98      0.466      0.714      0.519      0.235     0.0639     0.0204     0.0194    0.00408\n"
          ]
        },
        {
          "output_type": "stream",
          "name": "stderr",
          "text": [
            "\n"
          ]
        },
        {
          "output_type": "stream",
          "name": "stdout",
          "text": [
            "\n",
            "      Epoch    GPU_mem   box_loss   seg_loss   cls_loss   dfl_loss  Instances       Size\n"
          ]
        },
        {
          "output_type": "stream",
          "name": "stderr",
          "text": [
            "     48/100      8.07G      1.737      1.838      1.231      2.186         19       1280: 100%|██████████| 12/12 [00:04<00:00,  2.67it/s]\n",
            "                 Class     Images  Instances      Box(P          R      mAP50  mAP50-95)     Mask(P          R      mAP50  mAP50-95): 100%|██████████| 2/2 [00:00<00:00,  5.62it/s]"
          ]
        },
        {
          "output_type": "stream",
          "name": "stdout",
          "text": [
            "                   all         13         98      0.459      0.704      0.585      0.263      0.024      0.051     0.0187    0.00544\n"
          ]
        },
        {
          "output_type": "stream",
          "name": "stderr",
          "text": [
            "\n"
          ]
        },
        {
          "output_type": "stream",
          "name": "stdout",
          "text": [
            "\n",
            "      Epoch    GPU_mem   box_loss   seg_loss   cls_loss   dfl_loss  Instances       Size\n"
          ]
        },
        {
          "output_type": "stream",
          "name": "stderr",
          "text": [
            "     49/100      7.98G      1.772       1.86      1.282      2.214         16       1280: 100%|██████████| 12/12 [00:04<00:00,  2.67it/s]\n",
            "                 Class     Images  Instances      Box(P          R      mAP50  mAP50-95)     Mask(P          R      mAP50  mAP50-95): 100%|██████████| 2/2 [00:00<00:00,  5.67it/s]"
          ]
        },
        {
          "output_type": "stream",
          "name": "stdout",
          "text": [
            "                   all         13         98      0.531      0.611      0.562      0.251     0.0305     0.0408     0.0214     0.0062\n"
          ]
        },
        {
          "output_type": "stream",
          "name": "stderr",
          "text": [
            "\n"
          ]
        },
        {
          "output_type": "stream",
          "name": "stdout",
          "text": [
            "\n",
            "      Epoch    GPU_mem   box_loss   seg_loss   cls_loss   dfl_loss  Instances       Size\n"
          ]
        },
        {
          "output_type": "stream",
          "name": "stderr",
          "text": [
            "     50/100      8.09G      1.763      1.892      1.263      2.224         13       1280: 100%|██████████| 12/12 [00:04<00:00,  2.67it/s]\n",
            "                 Class     Images  Instances      Box(P          R      mAP50  mAP50-95)     Mask(P          R      mAP50  mAP50-95): 100%|██████████| 2/2 [00:00<00:00,  5.63it/s]"
          ]
        },
        {
          "output_type": "stream",
          "name": "stdout",
          "text": [
            "                   all         13         98      0.486      0.663      0.532      0.233      0.112     0.0306     0.0244    0.00551\n"
          ]
        },
        {
          "output_type": "stream",
          "name": "stderr",
          "text": [
            "\n"
          ]
        },
        {
          "output_type": "stream",
          "name": "stdout",
          "text": [
            "\n",
            "      Epoch    GPU_mem   box_loss   seg_loss   cls_loss   dfl_loss  Instances       Size\n"
          ]
        },
        {
          "output_type": "stream",
          "name": "stderr",
          "text": [
            "     51/100      7.98G       1.78      1.846      1.256      2.214         12       1280: 100%|██████████| 12/12 [00:04<00:00,  2.69it/s]\n",
            "                 Class     Images  Instances      Box(P          R      mAP50  mAP50-95)     Mask(P          R      mAP50  mAP50-95): 100%|██████████| 2/2 [00:00<00:00,  5.52it/s]"
          ]
        },
        {
          "output_type": "stream",
          "name": "stdout",
          "text": [
            "                   all         13         98      0.486      0.663      0.532      0.233      0.112     0.0306     0.0244    0.00551\n"
          ]
        },
        {
          "output_type": "stream",
          "name": "stderr",
          "text": [
            "\n"
          ]
        },
        {
          "output_type": "stream",
          "name": "stdout",
          "text": [
            "\n",
            "      Epoch    GPU_mem   box_loss   seg_loss   cls_loss   dfl_loss  Instances       Size\n"
          ]
        },
        {
          "output_type": "stream",
          "name": "stderr",
          "text": [
            "     52/100      8.02G      1.773      1.882      1.278      2.223         19       1280: 100%|██████████| 12/12 [00:04<00:00,  2.68it/s]\n",
            "                 Class     Images  Instances      Box(P          R      mAP50  mAP50-95)     Mask(P          R      mAP50  mAP50-95): 100%|██████████| 2/2 [00:00<00:00,  5.59it/s]"
          ]
        },
        {
          "output_type": "stream",
          "name": "stdout",
          "text": [
            "                   all         13         98      0.503      0.599      0.518      0.226      0.105     0.0306     0.0242    0.00368\n"
          ]
        },
        {
          "output_type": "stream",
          "name": "stderr",
          "text": [
            "\n"
          ]
        },
        {
          "output_type": "stream",
          "name": "stdout",
          "text": [
            "\n",
            "      Epoch    GPU_mem   box_loss   seg_loss   cls_loss   dfl_loss  Instances       Size\n"
          ]
        },
        {
          "output_type": "stream",
          "name": "stderr",
          "text": [
            "     53/100      8.36G      1.712      1.869      1.236      2.174         24       1280: 100%|██████████| 12/12 [00:04<00:00,  2.68it/s]\n",
            "                 Class     Images  Instances      Box(P          R      mAP50  mAP50-95)     Mask(P          R      mAP50  mAP50-95): 100%|██████████| 2/2 [00:00<00:00,  5.58it/s]"
          ]
        },
        {
          "output_type": "stream",
          "name": "stdout",
          "text": [
            "                   all         13         98      0.511       0.63      0.546      0.234      0.124     0.0306      0.029    0.00462\n"
          ]
        },
        {
          "output_type": "stream",
          "name": "stderr",
          "text": [
            "\n"
          ]
        },
        {
          "output_type": "stream",
          "name": "stdout",
          "text": [
            "\n",
            "      Epoch    GPU_mem   box_loss   seg_loss   cls_loss   dfl_loss  Instances       Size\n"
          ]
        },
        {
          "output_type": "stream",
          "name": "stderr",
          "text": [
            "     54/100      8.03G      1.789      1.899      1.234      2.184         17       1280: 100%|██████████| 12/12 [00:04<00:00,  2.65it/s]\n",
            "                 Class     Images  Instances      Box(P          R      mAP50  mAP50-95)     Mask(P          R      mAP50  mAP50-95): 100%|██████████| 2/2 [00:00<00:00,  5.58it/s]"
          ]
        },
        {
          "output_type": "stream",
          "name": "stdout",
          "text": [
            "                   all         13         98      0.522      0.633      0.544       0.24     0.0443     0.0408     0.0261    0.00563\n"
          ]
        },
        {
          "output_type": "stream",
          "name": "stderr",
          "text": [
            "\n"
          ]
        },
        {
          "output_type": "stream",
          "name": "stdout",
          "text": [
            "\n",
            "      Epoch    GPU_mem   box_loss   seg_loss   cls_loss   dfl_loss  Instances       Size\n"
          ]
        },
        {
          "output_type": "stream",
          "name": "stderr",
          "text": [
            "     55/100      7.96G      1.718      1.819      1.209      2.172         13       1280: 100%|██████████| 12/12 [00:04<00:00,  2.70it/s]\n",
            "                 Class     Images  Instances      Box(P          R      mAP50  mAP50-95)     Mask(P          R      mAP50  mAP50-95): 100%|██████████| 2/2 [00:00<00:00,  5.68it/s]"
          ]
        },
        {
          "output_type": "stream",
          "name": "stdout",
          "text": [
            "                   all         13         98      0.522      0.633      0.544       0.24     0.0443     0.0408     0.0261    0.00563\n"
          ]
        },
        {
          "output_type": "stream",
          "name": "stderr",
          "text": [
            "\n"
          ]
        },
        {
          "output_type": "stream",
          "name": "stdout",
          "text": [
            "\n",
            "      Epoch    GPU_mem   box_loss   seg_loss   cls_loss   dfl_loss  Instances       Size\n"
          ]
        },
        {
          "output_type": "stream",
          "name": "stderr",
          "text": [
            "     56/100      7.94G      1.752      1.842      1.223      2.189         17       1280: 100%|██████████| 12/12 [00:04<00:00,  2.69it/s]\n",
            "                 Class     Images  Instances      Box(P          R      mAP50  mAP50-95)     Mask(P          R      mAP50  mAP50-95): 100%|██████████| 2/2 [00:00<00:00,  5.35it/s]"
          ]
        },
        {
          "output_type": "stream",
          "name": "stdout",
          "text": [
            "                   all         13         98      0.557      0.612      0.574      0.261     0.0892     0.0306     0.0266    0.00561\n"
          ]
        },
        {
          "output_type": "stream",
          "name": "stderr",
          "text": [
            "\n"
          ]
        },
        {
          "output_type": "stream",
          "name": "stdout",
          "text": [
            "\n",
            "      Epoch    GPU_mem   box_loss   seg_loss   cls_loss   dfl_loss  Instances       Size\n"
          ]
        },
        {
          "output_type": "stream",
          "name": "stderr",
          "text": [
            "     57/100      8.02G      1.716      1.858      1.223      2.134         25       1280: 100%|██████████| 12/12 [00:04<00:00,  2.67it/s]\n",
            "                 Class     Images  Instances      Box(P          R      mAP50  mAP50-95)     Mask(P          R      mAP50  mAP50-95): 100%|██████████| 2/2 [00:00<00:00,  5.50it/s]"
          ]
        },
        {
          "output_type": "stream",
          "name": "stdout",
          "text": [
            "                   all         13         98      0.523      0.612      0.566      0.257      0.145     0.0306     0.0239    0.00469\n"
          ]
        },
        {
          "output_type": "stream",
          "name": "stderr",
          "text": [
            "\n"
          ]
        },
        {
          "output_type": "stream",
          "name": "stdout",
          "text": [
            "\n",
            "      Epoch    GPU_mem   box_loss   seg_loss   cls_loss   dfl_loss  Instances       Size\n"
          ]
        },
        {
          "output_type": "stream",
          "name": "stderr",
          "text": [
            "     58/100      8.49G      1.654      1.803      1.201      2.144         17       1280: 100%|██████████| 12/12 [00:04<00:00,  2.65it/s]\n",
            "                 Class     Images  Instances      Box(P          R      mAP50  mAP50-95)     Mask(P          R      mAP50  mAP50-95): 100%|██████████| 2/2 [00:00<00:00,  5.41it/s]"
          ]
        },
        {
          "output_type": "stream",
          "name": "stdout",
          "text": [
            "                   all         13         98      0.597      0.635      0.631      0.281     0.0651     0.0306     0.0224    0.00419\n"
          ]
        },
        {
          "output_type": "stream",
          "name": "stderr",
          "text": [
            "\n"
          ]
        },
        {
          "output_type": "stream",
          "name": "stdout",
          "text": [
            "\n",
            "      Epoch    GPU_mem   box_loss   seg_loss   cls_loss   dfl_loss  Instances       Size\n"
          ]
        },
        {
          "output_type": "stream",
          "name": "stderr",
          "text": [
            "     59/100      7.94G      1.761      1.812      1.261      2.202         17       1280: 100%|██████████| 12/12 [00:04<00:00,  2.67it/s]\n",
            "                 Class     Images  Instances      Box(P          R      mAP50  mAP50-95)     Mask(P          R      mAP50  mAP50-95): 100%|██████████| 2/2 [00:00<00:00,  5.58it/s]"
          ]
        },
        {
          "output_type": "stream",
          "name": "stdout",
          "text": [
            "                   all         13         98      0.597      0.635      0.631      0.281     0.0651     0.0306     0.0224    0.00419\n"
          ]
        },
        {
          "output_type": "stream",
          "name": "stderr",
          "text": [
            "\n"
          ]
        },
        {
          "output_type": "stream",
          "name": "stdout",
          "text": [
            "\n",
            "      Epoch    GPU_mem   box_loss   seg_loss   cls_loss   dfl_loss  Instances       Size\n"
          ]
        },
        {
          "output_type": "stream",
          "name": "stderr",
          "text": [
            "     60/100      8.07G       1.74      1.811      1.285      2.226         11       1280: 100%|██████████| 12/12 [00:04<00:00,  2.68it/s]\n",
            "                 Class     Images  Instances      Box(P          R      mAP50  mAP50-95)     Mask(P          R      mAP50  mAP50-95): 100%|██████████| 2/2 [00:00<00:00,  5.61it/s]"
          ]
        },
        {
          "output_type": "stream",
          "name": "stdout",
          "text": [
            "                   all         13         98      0.464      0.694      0.553      0.253       0.04     0.0306    0.00863    0.00185\n"
          ]
        },
        {
          "output_type": "stream",
          "name": "stderr",
          "text": [
            "\n"
          ]
        },
        {
          "output_type": "stream",
          "name": "stdout",
          "text": [
            "\n",
            "      Epoch    GPU_mem   box_loss   seg_loss   cls_loss   dfl_loss  Instances       Size\n"
          ]
        },
        {
          "output_type": "stream",
          "name": "stderr",
          "text": [
            "     61/100      7.92G      1.754       1.84      1.256      2.136         17       1280: 100%|██████████| 12/12 [00:04<00:00,  2.66it/s]\n",
            "                 Class     Images  Instances      Box(P          R      mAP50  mAP50-95)     Mask(P          R      mAP50  mAP50-95): 100%|██████████| 2/2 [00:00<00:00,  5.61it/s]"
          ]
        },
        {
          "output_type": "stream",
          "name": "stdout",
          "text": [
            "                   all         13         98      0.425      0.704      0.529      0.239     0.0443     0.0204    0.00856    0.00244\n"
          ]
        },
        {
          "output_type": "stream",
          "name": "stderr",
          "text": [
            "\n"
          ]
        },
        {
          "output_type": "stream",
          "name": "stdout",
          "text": [
            "\n",
            "      Epoch    GPU_mem   box_loss   seg_loss   cls_loss   dfl_loss  Instances       Size\n"
          ]
        },
        {
          "output_type": "stream",
          "name": "stderr",
          "text": [
            "     62/100      8.23G      1.712      1.867      1.216      2.132         19       1280: 100%|██████████| 12/12 [00:04<00:00,  2.64it/s]\n",
            "                 Class     Images  Instances      Box(P          R      mAP50  mAP50-95)     Mask(P          R      mAP50  mAP50-95): 100%|██████████| 2/2 [00:00<00:00,  5.39it/s]"
          ]
        },
        {
          "output_type": "stream",
          "name": "stdout",
          "text": [
            "                   all         13         98      0.547      0.616      0.593      0.265     0.0404      0.051     0.0289    0.00761\n"
          ]
        },
        {
          "output_type": "stream",
          "name": "stderr",
          "text": [
            "\n"
          ]
        },
        {
          "output_type": "stream",
          "name": "stdout",
          "text": [
            "\n",
            "      Epoch    GPU_mem   box_loss   seg_loss   cls_loss   dfl_loss  Instances       Size\n"
          ]
        },
        {
          "output_type": "stream",
          "name": "stderr",
          "text": [
            "     63/100         8G      1.723       1.85      1.239      2.144         15       1280: 100%|██████████| 12/12 [00:04<00:00,  2.68it/s]\n",
            "                 Class     Images  Instances      Box(P          R      mAP50  mAP50-95)     Mask(P          R      mAP50  mAP50-95): 100%|██████████| 2/2 [00:00<00:00,  5.59it/s]"
          ]
        },
        {
          "output_type": "stream",
          "name": "stdout",
          "text": [
            "                   all         13         98      0.547      0.616      0.593      0.265     0.0404      0.051     0.0289    0.00761\n"
          ]
        },
        {
          "output_type": "stream",
          "name": "stderr",
          "text": [
            "\n"
          ]
        },
        {
          "output_type": "stream",
          "name": "stdout",
          "text": [
            "\n",
            "      Epoch    GPU_mem   box_loss   seg_loss   cls_loss   dfl_loss  Instances       Size\n"
          ]
        },
        {
          "output_type": "stream",
          "name": "stderr",
          "text": [
            "     64/100      7.98G      1.728      1.797      1.218      2.158         26       1280: 100%|██████████| 12/12 [00:04<00:00,  2.69it/s]\n",
            "                 Class     Images  Instances      Box(P          R      mAP50  mAP50-95)     Mask(P          R      mAP50  mAP50-95): 100%|██████████| 2/2 [00:00<00:00,  5.64it/s]"
          ]
        },
        {
          "output_type": "stream",
          "name": "stdout",
          "text": [
            "                   all         13         98      0.485      0.622       0.57      0.258     0.0733     0.0408     0.0282    0.00754\n"
          ]
        },
        {
          "output_type": "stream",
          "name": "stderr",
          "text": [
            "\n"
          ]
        },
        {
          "output_type": "stream",
          "name": "stdout",
          "text": [
            "\n",
            "      Epoch    GPU_mem   box_loss   seg_loss   cls_loss   dfl_loss  Instances       Size\n"
          ]
        },
        {
          "output_type": "stream",
          "name": "stderr",
          "text": [
            "     65/100       8.1G      1.704      1.835      1.216      2.122          8       1280: 100%|██████████| 12/12 [00:04<00:00,  2.66it/s]\n",
            "                 Class     Images  Instances      Box(P          R      mAP50  mAP50-95)     Mask(P          R      mAP50  mAP50-95): 100%|██████████| 2/2 [00:00<00:00,  5.41it/s]"
          ]
        },
        {
          "output_type": "stream",
          "name": "stdout",
          "text": [
            "                   all         13         98      0.506      0.663      0.585      0.266      0.109     0.0714     0.0335    0.00793\n"
          ]
        },
        {
          "output_type": "stream",
          "name": "stderr",
          "text": [
            "\n"
          ]
        },
        {
          "output_type": "stream",
          "name": "stdout",
          "text": [
            "\n",
            "      Epoch    GPU_mem   box_loss   seg_loss   cls_loss   dfl_loss  Instances       Size\n"
          ]
        },
        {
          "output_type": "stream",
          "name": "stderr",
          "text": [
            "     66/100      7.96G      1.725      1.818      1.214      2.158          6       1280: 100%|██████████| 12/12 [00:04<00:00,  2.62it/s]\n",
            "                 Class     Images  Instances      Box(P          R      mAP50  mAP50-95)     Mask(P          R      mAP50  mAP50-95): 100%|██████████| 2/2 [00:00<00:00,  5.53it/s]"
          ]
        },
        {
          "output_type": "stream",
          "name": "stdout",
          "text": [
            "                   all         13         98      0.613      0.612      0.629      0.277     0.0672     0.0408     0.0247    0.00529\n"
          ]
        },
        {
          "output_type": "stream",
          "name": "stderr",
          "text": [
            "\n"
          ]
        },
        {
          "output_type": "stream",
          "name": "stdout",
          "text": [
            "\n",
            "      Epoch    GPU_mem   box_loss   seg_loss   cls_loss   dfl_loss  Instances       Size\n"
          ]
        },
        {
          "output_type": "stream",
          "name": "stderr",
          "text": [
            "     67/100      8.39G      1.657      1.815      1.195      2.157         20       1280: 100%|██████████| 12/12 [00:04<00:00,  2.69it/s]\n",
            "                 Class     Images  Instances      Box(P          R      mAP50  mAP50-95)     Mask(P          R      mAP50  mAP50-95): 100%|██████████| 2/2 [00:00<00:00,  5.43it/s]"
          ]
        },
        {
          "output_type": "stream",
          "name": "stdout",
          "text": [
            "                   all         13         98      0.613      0.612      0.629      0.277     0.0672     0.0408     0.0247    0.00529\n"
          ]
        },
        {
          "output_type": "stream",
          "name": "stderr",
          "text": [
            "\n"
          ]
        },
        {
          "output_type": "stream",
          "name": "stdout",
          "text": [
            "\n",
            "      Epoch    GPU_mem   box_loss   seg_loss   cls_loss   dfl_loss  Instances       Size\n"
          ]
        },
        {
          "output_type": "stream",
          "name": "stderr",
          "text": [
            "     68/100      8.32G      1.696      1.807      1.224      2.105         12       1280: 100%|██████████| 12/12 [00:04<00:00,  2.70it/s]\n",
            "                 Class     Images  Instances      Box(P          R      mAP50  mAP50-95)     Mask(P          R      mAP50  mAP50-95): 100%|██████████| 2/2 [00:00<00:00,  5.55it/s]"
          ]
        },
        {
          "output_type": "stream",
          "name": "stdout",
          "text": [
            "                   all         13         98      0.626      0.633      0.644      0.287     0.0707     0.0408     0.0271    0.00722\n"
          ]
        },
        {
          "output_type": "stream",
          "name": "stderr",
          "text": [
            "\n"
          ]
        },
        {
          "output_type": "stream",
          "name": "stdout",
          "text": [
            "\n",
            "      Epoch    GPU_mem   box_loss   seg_loss   cls_loss   dfl_loss  Instances       Size\n"
          ]
        },
        {
          "output_type": "stream",
          "name": "stderr",
          "text": [
            "     69/100      8.08G      1.671      1.848      1.184      2.178         14       1280: 100%|██████████| 12/12 [00:04<00:00,  2.69it/s]\n",
            "                 Class     Images  Instances      Box(P          R      mAP50  mAP50-95)     Mask(P          R      mAP50  mAP50-95): 100%|██████████| 2/2 [00:00<00:00,  5.19it/s]"
          ]
        },
        {
          "output_type": "stream",
          "name": "stdout",
          "text": [
            "                   all         13         98      0.648      0.612      0.622      0.281     0.0715     0.0408     0.0274     0.0073\n"
          ]
        },
        {
          "output_type": "stream",
          "name": "stderr",
          "text": [
            "\n"
          ]
        },
        {
          "output_type": "stream",
          "name": "stdout",
          "text": [
            "\n",
            "      Epoch    GPU_mem   box_loss   seg_loss   cls_loss   dfl_loss  Instances       Size\n"
          ]
        },
        {
          "output_type": "stream",
          "name": "stderr",
          "text": [
            "     70/100      7.92G      1.655      1.818      1.156      2.076         17       1280: 100%|██████████| 12/12 [00:04<00:00,  2.66it/s]\n",
            "                 Class     Images  Instances      Box(P          R      mAP50  mAP50-95)     Mask(P          R      mAP50  mAP50-95): 100%|██████████| 2/2 [00:00<00:00,  5.15it/s]"
          ]
        },
        {
          "output_type": "stream",
          "name": "stdout",
          "text": [
            "                   all         13         98      0.562      0.571      0.582       0.27     0.0674     0.0408     0.0272    0.00752\n"
          ]
        },
        {
          "output_type": "stream",
          "name": "stderr",
          "text": [
            "\n"
          ]
        },
        {
          "output_type": "stream",
          "name": "stdout",
          "text": [
            "\n",
            "      Epoch    GPU_mem   box_loss   seg_loss   cls_loss   dfl_loss  Instances       Size\n"
          ]
        },
        {
          "output_type": "stream",
          "name": "stderr",
          "text": [
            "     71/100         8G      1.709      1.803      1.202       2.19         13       1280: 100%|██████████| 12/12 [00:04<00:00,  2.67it/s]\n",
            "                 Class     Images  Instances      Box(P          R      mAP50  mAP50-95)     Mask(P          R      mAP50  mAP50-95): 100%|██████████| 2/2 [00:00<00:00,  5.66it/s]"
          ]
        },
        {
          "output_type": "stream",
          "name": "stdout",
          "text": [
            "                   all         13         98      0.562      0.571      0.582       0.27     0.0674     0.0408     0.0272    0.00752\n"
          ]
        },
        {
          "output_type": "stream",
          "name": "stderr",
          "text": [
            "\n"
          ]
        },
        {
          "output_type": "stream",
          "name": "stdout",
          "text": [
            "\n",
            "      Epoch    GPU_mem   box_loss   seg_loss   cls_loss   dfl_loss  Instances       Size\n"
          ]
        },
        {
          "output_type": "stream",
          "name": "stderr",
          "text": [
            "     72/100         8G      1.703       1.77      1.188      2.167         16       1280: 100%|██████████| 12/12 [00:04<00:00,  2.66it/s]\n",
            "                 Class     Images  Instances      Box(P          R      mAP50  mAP50-95)     Mask(P          R      mAP50  mAP50-95): 100%|██████████| 2/2 [00:00<00:00,  5.65it/s]"
          ]
        },
        {
          "output_type": "stream",
          "name": "stdout",
          "text": [
            "                   all         13         98      0.511      0.684      0.586      0.268     0.0611     0.0408     0.0266    0.00738\n"
          ]
        },
        {
          "output_type": "stream",
          "name": "stderr",
          "text": [
            "\n"
          ]
        },
        {
          "output_type": "stream",
          "name": "stdout",
          "text": [
            "\n",
            "      Epoch    GPU_mem   box_loss   seg_loss   cls_loss   dfl_loss  Instances       Size\n"
          ]
        },
        {
          "output_type": "stream",
          "name": "stderr",
          "text": [
            "     73/100      8.08G      1.683      1.723      1.187      2.102         17       1280: 100%|██████████| 12/12 [00:04<00:00,  2.69it/s]\n",
            "                 Class     Images  Instances      Box(P          R      mAP50  mAP50-95)     Mask(P          R      mAP50  mAP50-95): 100%|██████████| 2/2 [00:00<00:00,  5.65it/s]"
          ]
        },
        {
          "output_type": "stream",
          "name": "stdout",
          "text": [
            "                   all         13         98      0.512      0.695      0.615       0.28      0.082     0.0306       0.03    0.00671\n"
          ]
        },
        {
          "output_type": "stream",
          "name": "stderr",
          "text": [
            "\n"
          ]
        },
        {
          "output_type": "stream",
          "name": "stdout",
          "text": [
            "\n",
            "      Epoch    GPU_mem   box_loss   seg_loss   cls_loss   dfl_loss  Instances       Size\n"
          ]
        },
        {
          "output_type": "stream",
          "name": "stderr",
          "text": [
            "     74/100      7.94G      1.581      1.796      1.161      2.054         12       1280: 100%|██████████| 12/12 [00:04<00:00,  2.67it/s]\n",
            "                 Class     Images  Instances      Box(P          R      mAP50  mAP50-95)     Mask(P          R      mAP50  mAP50-95): 100%|██████████| 2/2 [00:00<00:00,  5.17it/s]"
          ]
        },
        {
          "output_type": "stream",
          "name": "stdout",
          "text": [
            "                   all         13         98      0.546      0.704      0.628      0.283      0.199     0.0306      0.032    0.00736\n"
          ]
        },
        {
          "output_type": "stream",
          "name": "stderr",
          "text": [
            "\n"
          ]
        },
        {
          "output_type": "stream",
          "name": "stdout",
          "text": [
            "\n",
            "      Epoch    GPU_mem   box_loss   seg_loss   cls_loss   dfl_loss  Instances       Size\n"
          ]
        },
        {
          "output_type": "stream",
          "name": "stderr",
          "text": [
            "     75/100      8.06G      1.639      1.821      1.131      2.158         20       1280: 100%|██████████| 12/12 [00:04<00:00,  2.67it/s]\n",
            "                 Class     Images  Instances      Box(P          R      mAP50  mAP50-95)     Mask(P          R      mAP50  mAP50-95): 100%|██████████| 2/2 [00:00<00:00,  5.05it/s]"
          ]
        },
        {
          "output_type": "stream",
          "name": "stdout",
          "text": [
            "                   all         13         98      0.546      0.704      0.628      0.283      0.199     0.0306      0.032    0.00736\n"
          ]
        },
        {
          "output_type": "stream",
          "name": "stderr",
          "text": [
            "\n"
          ]
        },
        {
          "output_type": "stream",
          "name": "stdout",
          "text": [
            "\n",
            "      Epoch    GPU_mem   box_loss   seg_loss   cls_loss   dfl_loss  Instances       Size\n"
          ]
        },
        {
          "output_type": "stream",
          "name": "stderr",
          "text": [
            "     76/100      7.94G      1.678      1.734      1.143      2.098         13       1280: 100%|██████████| 12/12 [00:04<00:00,  2.61it/s]\n",
            "                 Class     Images  Instances      Box(P          R      mAP50  mAP50-95)     Mask(P          R      mAP50  mAP50-95): 100%|██████████| 2/2 [00:00<00:00,  5.59it/s]"
          ]
        },
        {
          "output_type": "stream",
          "name": "stdout",
          "text": [
            "                   all         13         98       0.54      0.745       0.62      0.282     0.0881     0.0612     0.0364    0.00748\n"
          ]
        },
        {
          "output_type": "stream",
          "name": "stderr",
          "text": [
            "\n"
          ]
        },
        {
          "output_type": "stream",
          "name": "stdout",
          "text": [
            "\n",
            "      Epoch    GPU_mem   box_loss   seg_loss   cls_loss   dfl_loss  Instances       Size\n"
          ]
        },
        {
          "output_type": "stream",
          "name": "stderr",
          "text": [
            "     77/100      8.26G      1.644      1.752      1.179      2.105         18       1280: 100%|██████████| 12/12 [00:04<00:00,  2.69it/s]\n",
            "                 Class     Images  Instances      Box(P          R      mAP50  mAP50-95)     Mask(P          R      mAP50  mAP50-95): 100%|██████████| 2/2 [00:00<00:00,  5.69it/s]"
          ]
        },
        {
          "output_type": "stream",
          "name": "stdout",
          "text": [
            "                   all         13         98      0.505      0.735      0.608       0.28     0.0589     0.0612      0.032    0.00696\n"
          ]
        },
        {
          "output_type": "stream",
          "name": "stderr",
          "text": [
            "\n"
          ]
        },
        {
          "output_type": "stream",
          "name": "stdout",
          "text": [
            "\n",
            "      Epoch    GPU_mem   box_loss   seg_loss   cls_loss   dfl_loss  Instances       Size\n"
          ]
        },
        {
          "output_type": "stream",
          "name": "stderr",
          "text": [
            "     78/100      8.01G      1.689      1.774      1.165      2.112         12       1280: 100%|██████████| 12/12 [00:04<00:00,  2.65it/s]\n",
            "                 Class     Images  Instances      Box(P          R      mAP50  mAP50-95)     Mask(P          R      mAP50  mAP50-95): 100%|██████████| 2/2 [00:00<00:00,  5.67it/s]"
          ]
        },
        {
          "output_type": "stream",
          "name": "stdout",
          "text": [
            "                   all         13         98      0.614      0.612      0.604      0.295     0.0634     0.0714     0.0357    0.00734\n"
          ]
        },
        {
          "output_type": "stream",
          "name": "stderr",
          "text": [
            "\n"
          ]
        },
        {
          "output_type": "stream",
          "name": "stdout",
          "text": [
            "\n",
            "      Epoch    GPU_mem   box_loss   seg_loss   cls_loss   dfl_loss  Instances       Size\n"
          ]
        },
        {
          "output_type": "stream",
          "name": "stderr",
          "text": [
            "     79/100      7.96G      1.612      1.779      1.137      2.085         10       1280: 100%|██████████| 12/12 [00:04<00:00,  2.64it/s]\n",
            "                 Class     Images  Instances      Box(P          R      mAP50  mAP50-95)     Mask(P          R      mAP50  mAP50-95): 100%|██████████| 2/2 [00:00<00:00,  5.41it/s]"
          ]
        },
        {
          "output_type": "stream",
          "name": "stdout",
          "text": [
            "                   all         13         98      0.614      0.612      0.604      0.295     0.0634     0.0714     0.0357    0.00734\n"
          ]
        },
        {
          "output_type": "stream",
          "name": "stderr",
          "text": [
            "\n"
          ]
        },
        {
          "output_type": "stream",
          "name": "stdout",
          "text": [
            "\n",
            "      Epoch    GPU_mem   box_loss   seg_loss   cls_loss   dfl_loss  Instances       Size\n"
          ]
        },
        {
          "output_type": "stream",
          "name": "stderr",
          "text": [
            "     80/100      8.16G       1.65      1.755      1.209      2.092         17       1280: 100%|██████████| 12/12 [00:04<00:00,  2.66it/s]\n",
            "                 Class     Images  Instances      Box(P          R      mAP50  mAP50-95)     Mask(P          R      mAP50  mAP50-95): 100%|██████████| 2/2 [00:00<00:00,  5.65it/s]"
          ]
        },
        {
          "output_type": "stream",
          "name": "stdout",
          "text": [
            "                   all         13         98      0.598      0.653      0.624      0.298      0.259      0.051     0.0398    0.00771\n"
          ]
        },
        {
          "output_type": "stream",
          "name": "stderr",
          "text": [
            "\n"
          ]
        },
        {
          "output_type": "stream",
          "name": "stdout",
          "text": [
            "\n",
            "      Epoch    GPU_mem   box_loss   seg_loss   cls_loss   dfl_loss  Instances       Size\n"
          ]
        },
        {
          "output_type": "stream",
          "name": "stderr",
          "text": [
            "     81/100      7.88G      1.704      1.824       1.16      2.147         18       1280: 100%|██████████| 12/12 [00:04<00:00,  2.69it/s]\n",
            "                 Class     Images  Instances      Box(P          R      mAP50  mAP50-95)     Mask(P          R      mAP50  mAP50-95): 100%|██████████| 2/2 [00:00<00:00,  5.66it/s]"
          ]
        },
        {
          "output_type": "stream",
          "name": "stdout",
          "text": [
            "                   all         13         98      0.585      0.673      0.655      0.312      0.214     0.0306     0.0278     0.0066\n"
          ]
        },
        {
          "output_type": "stream",
          "name": "stderr",
          "text": [
            "\n"
          ]
        },
        {
          "output_type": "stream",
          "name": "stdout",
          "text": [
            "\n",
            "      Epoch    GPU_mem   box_loss   seg_loss   cls_loss   dfl_loss  Instances       Size\n"
          ]
        },
        {
          "output_type": "stream",
          "name": "stderr",
          "text": [
            "     82/100      8.01G      1.639      1.826      1.119      2.142         11       1280: 100%|██████████| 12/12 [00:04<00:00,  2.63it/s]\n",
            "                 Class     Images  Instances      Box(P          R      mAP50  mAP50-95)     Mask(P          R      mAP50  mAP50-95): 100%|██████████| 2/2 [00:00<00:00,  5.69it/s]"
          ]
        },
        {
          "output_type": "stream",
          "name": "stdout",
          "text": [
            "                   all         13         98      0.599      0.643      0.649      0.321      0.248     0.0306     0.0281    0.00623\n"
          ]
        },
        {
          "output_type": "stream",
          "name": "stderr",
          "text": [
            "\n"
          ]
        },
        {
          "output_type": "stream",
          "name": "stdout",
          "text": [
            "\n",
            "      Epoch    GPU_mem   box_loss   seg_loss   cls_loss   dfl_loss  Instances       Size\n"
          ]
        },
        {
          "output_type": "stream",
          "name": "stderr",
          "text": [
            "     83/100      7.99G      1.651      1.824      1.172      2.111         14       1280: 100%|██████████| 12/12 [00:04<00:00,  2.69it/s]\n",
            "                 Class     Images  Instances      Box(P          R      mAP50  mAP50-95)     Mask(P          R      mAP50  mAP50-95): 100%|██████████| 2/2 [00:00<00:00,  5.73it/s]"
          ]
        },
        {
          "output_type": "stream",
          "name": "stdout",
          "text": [
            "                   all         13         98      0.599      0.643      0.649      0.321      0.248     0.0306     0.0281    0.00623\n"
          ]
        },
        {
          "output_type": "stream",
          "name": "stderr",
          "text": [
            "\n"
          ]
        },
        {
          "output_type": "stream",
          "name": "stdout",
          "text": [
            "\n",
            "      Epoch    GPU_mem   box_loss   seg_loss   cls_loss   dfl_loss  Instances       Size\n"
          ]
        },
        {
          "output_type": "stream",
          "name": "stderr",
          "text": [
            "     84/100      8.01G      1.685        1.8      1.147      2.097         16       1280: 100%|██████████| 12/12 [00:04<00:00,  2.67it/s]\n",
            "                 Class     Images  Instances      Box(P          R      mAP50  mAP50-95)     Mask(P          R      mAP50  mAP50-95): 100%|██████████| 2/2 [00:00<00:00,  5.33it/s]"
          ]
        },
        {
          "output_type": "stream",
          "name": "stdout",
          "text": [
            "                   all         13         98      0.582      0.696      0.635      0.305      0.219     0.0306      0.028    0.00662\n"
          ]
        },
        {
          "output_type": "stream",
          "name": "stderr",
          "text": [
            "\n"
          ]
        },
        {
          "output_type": "stream",
          "name": "stdout",
          "text": [
            "\n",
            "      Epoch    GPU_mem   box_loss   seg_loss   cls_loss   dfl_loss  Instances       Size\n"
          ]
        },
        {
          "output_type": "stream",
          "name": "stderr",
          "text": [
            "     85/100      8.27G      1.641      1.815       1.14      2.113         23       1280: 100%|██████████| 12/12 [00:04<00:00,  2.68it/s]\n",
            "                 Class     Images  Instances      Box(P          R      mAP50  mAP50-95)     Mask(P          R      mAP50  mAP50-95): 100%|██████████| 2/2 [00:00<00:00,  5.70it/s]"
          ]
        },
        {
          "output_type": "stream",
          "name": "stdout",
          "text": [
            "                   all         13         98      0.595      0.735      0.663       0.31      0.223     0.0306      0.028    0.00643\n"
          ]
        },
        {
          "output_type": "stream",
          "name": "stderr",
          "text": [
            "\n"
          ]
        },
        {
          "output_type": "stream",
          "name": "stdout",
          "text": [
            "\n",
            "      Epoch    GPU_mem   box_loss   seg_loss   cls_loss   dfl_loss  Instances       Size\n"
          ]
        },
        {
          "output_type": "stream",
          "name": "stderr",
          "text": [
            "     86/100      7.94G      1.634      1.742      1.145       2.13         21       1280: 100%|██████████| 12/12 [00:04<00:00,  2.70it/s]\n",
            "                 Class     Images  Instances      Box(P          R      mAP50  mAP50-95)     Mask(P          R      mAP50  mAP50-95): 100%|██████████| 2/2 [00:00<00:00,  5.70it/s]"
          ]
        },
        {
          "output_type": "stream",
          "name": "stdout",
          "text": [
            "                   all         13         98      0.582      0.682      0.627       0.31      0.206     0.0306      0.027    0.00617\n"
          ]
        },
        {
          "output_type": "stream",
          "name": "stderr",
          "text": [
            "\n"
          ]
        },
        {
          "output_type": "stream",
          "name": "stdout",
          "text": [
            "\n",
            "      Epoch    GPU_mem   box_loss   seg_loss   cls_loss   dfl_loss  Instances       Size\n"
          ]
        },
        {
          "output_type": "stream",
          "name": "stderr",
          "text": [
            "     87/100      8.03G       1.52      1.742      1.126      2.109         14       1280: 100%|██████████| 12/12 [00:04<00:00,  2.69it/s]\n",
            "                 Class     Images  Instances      Box(P          R      mAP50  mAP50-95)     Mask(P          R      mAP50  mAP50-95): 100%|██████████| 2/2 [00:00<00:00,  5.17it/s]"
          ]
        },
        {
          "output_type": "stream",
          "name": "stdout",
          "text": [
            "                   all         13         98      0.582      0.682      0.627       0.31      0.206     0.0306      0.027    0.00617\n"
          ]
        },
        {
          "output_type": "stream",
          "name": "stderr",
          "text": [
            "\n"
          ]
        },
        {
          "output_type": "stream",
          "name": "stdout",
          "text": [
            "\n",
            "      Epoch    GPU_mem   box_loss   seg_loss   cls_loss   dfl_loss  Instances       Size\n"
          ]
        },
        {
          "output_type": "stream",
          "name": "stderr",
          "text": [
            "     88/100      7.98G      1.646      1.784      1.188      2.084         12       1280: 100%|██████████| 12/12 [00:04<00:00,  2.67it/s]\n",
            "                 Class     Images  Instances      Box(P          R      mAP50  mAP50-95)     Mask(P          R      mAP50  mAP50-95): 100%|██████████| 2/2 [00:00<00:00,  5.71it/s]"
          ]
        },
        {
          "output_type": "stream",
          "name": "stdout",
          "text": [
            "                   all         13         98      0.626      0.633      0.632      0.306      0.201     0.0408     0.0288     0.0077\n"
          ]
        },
        {
          "output_type": "stream",
          "name": "stderr",
          "text": [
            "\n"
          ]
        },
        {
          "output_type": "stream",
          "name": "stdout",
          "text": [
            "\n",
            "      Epoch    GPU_mem   box_loss   seg_loss   cls_loss   dfl_loss  Instances       Size\n"
          ]
        },
        {
          "output_type": "stream",
          "name": "stderr",
          "text": [
            "     89/100      7.94G      1.709      1.744      1.144      2.132         14       1280: 100%|██████████| 12/12 [00:04<00:00,  2.67it/s]\n",
            "                 Class     Images  Instances      Box(P          R      mAP50  mAP50-95)     Mask(P          R      mAP50  mAP50-95): 100%|██████████| 2/2 [00:00<00:00,  5.66it/s]"
          ]
        },
        {
          "output_type": "stream",
          "name": "stdout",
          "text": [
            "                   all         13         98      0.638      0.666      0.648      0.314      0.164     0.0408     0.0298    0.00668\n"
          ]
        },
        {
          "output_type": "stream",
          "name": "stderr",
          "text": [
            "\n"
          ]
        },
        {
          "output_type": "stream",
          "name": "stdout",
          "text": [
            "\n",
            "      Epoch    GPU_mem   box_loss   seg_loss   cls_loss   dfl_loss  Instances       Size\n"
          ]
        },
        {
          "output_type": "stream",
          "name": "stderr",
          "text": [
            "     90/100      8.05G      1.699      1.707      1.158       2.14         21       1280: 100%|██████████| 12/12 [00:04<00:00,  2.68it/s]\n",
            "                 Class     Images  Instances      Box(P          R      mAP50  mAP50-95)     Mask(P          R      mAP50  mAP50-95): 100%|██████████| 2/2 [00:00<00:00,  5.72it/s]"
          ]
        },
        {
          "output_type": "stream",
          "name": "stdout",
          "text": [
            "                   all         13         98      0.655      0.704       0.69      0.329      0.133     0.0408     0.0279    0.00635\n"
          ]
        },
        {
          "output_type": "stream",
          "name": "stderr",
          "text": [
            "\n"
          ]
        },
        {
          "output_type": "stream",
          "name": "stdout",
          "text": [
            "Closing dataloader mosaic\n",
            "\u001b[34m\u001b[1malbumentations: \u001b[0mBlur(p=0.01, blur_limit=(3, 7)), MedianBlur(p=0.01, blur_limit=(3, 7)), ToGray(p=0.01, num_output_channels=3, method='weighted_average'), CLAHE(p=0.01, clip_limit=(1, 4.0), tile_grid_size=(8, 8))\n",
            "\n",
            "      Epoch    GPU_mem   box_loss   seg_loss   cls_loss   dfl_loss  Instances       Size\n"
          ]
        },
        {
          "output_type": "stream",
          "name": "stderr",
          "text": [
            "     91/100      8.05G      1.618      1.766       1.15      2.078         21       1280: 100%|██████████| 12/12 [00:09<00:00,  1.28it/s]\n",
            "                 Class     Images  Instances      Box(P          R      mAP50  mAP50-95)     Mask(P          R      mAP50  mAP50-95): 100%|██████████| 2/2 [00:00<00:00,  5.00it/s]"
          ]
        },
        {
          "output_type": "stream",
          "name": "stdout",
          "text": [
            "                   all         13         98      0.655      0.704       0.69      0.329      0.133     0.0408     0.0279    0.00635\n"
          ]
        },
        {
          "output_type": "stream",
          "name": "stderr",
          "text": [
            "\n"
          ]
        },
        {
          "output_type": "stream",
          "name": "stdout",
          "text": [
            "\n",
            "      Epoch    GPU_mem   box_loss   seg_loss   cls_loss   dfl_loss  Instances       Size\n"
          ]
        },
        {
          "output_type": "stream",
          "name": "stderr",
          "text": [
            "     92/100      8.16G      1.594       1.75      1.101      2.052         22       1280: 100%|██████████| 12/12 [00:04<00:00,  2.60it/s]\n",
            "                 Class     Images  Instances      Box(P          R      mAP50  mAP50-95)     Mask(P          R      mAP50  mAP50-95): 100%|██████████| 2/2 [00:00<00:00,  5.03it/s]"
          ]
        },
        {
          "output_type": "stream",
          "name": "stdout",
          "text": [
            "                   all         13         98       0.69      0.663      0.694       0.33      0.139     0.0408     0.0296    0.00607\n"
          ]
        },
        {
          "output_type": "stream",
          "name": "stderr",
          "text": [
            "\n"
          ]
        },
        {
          "output_type": "stream",
          "name": "stdout",
          "text": [
            "\n",
            "      Epoch    GPU_mem   box_loss   seg_loss   cls_loss   dfl_loss  Instances       Size\n"
          ]
        },
        {
          "output_type": "stream",
          "name": "stderr",
          "text": [
            "     93/100      7.96G      1.609      1.797       1.11      2.054          8       1280: 100%|██████████| 12/12 [00:04<00:00,  2.63it/s]\n",
            "                 Class     Images  Instances      Box(P          R      mAP50  mAP50-95)     Mask(P          R      mAP50  mAP50-95): 100%|██████████| 2/2 [00:00<00:00,  5.20it/s]"
          ]
        },
        {
          "output_type": "stream",
          "name": "stdout",
          "text": [
            "                   all         13         98      0.668      0.714      0.699      0.333      0.191     0.0408     0.0221    0.00448\n"
          ]
        },
        {
          "output_type": "stream",
          "name": "stderr",
          "text": [
            "\n"
          ]
        },
        {
          "output_type": "stream",
          "name": "stdout",
          "text": [
            "\n",
            "      Epoch    GPU_mem   box_loss   seg_loss   cls_loss   dfl_loss  Instances       Size\n"
          ]
        },
        {
          "output_type": "stream",
          "name": "stderr",
          "text": [
            "     94/100      7.94G       1.62      1.732      1.124      2.053          7       1280: 100%|██████████| 12/12 [00:04<00:00,  2.65it/s]\n",
            "                 Class     Images  Instances      Box(P          R      mAP50  mAP50-95)     Mask(P          R      mAP50  mAP50-95): 100%|██████████| 2/2 [00:00<00:00,  5.55it/s]"
          ]
        },
        {
          "output_type": "stream",
          "name": "stdout",
          "text": [
            "                   all         13         98      0.616      0.694      0.678      0.341      0.198     0.0306      0.019    0.00411\n"
          ]
        },
        {
          "output_type": "stream",
          "name": "stderr",
          "text": [
            "\n"
          ]
        },
        {
          "output_type": "stream",
          "name": "stdout",
          "text": [
            "\n",
            "      Epoch    GPU_mem   box_loss   seg_loss   cls_loss   dfl_loss  Instances       Size\n"
          ]
        },
        {
          "output_type": "stream",
          "name": "stderr",
          "text": [
            "     95/100      8.32G      1.639      1.738      1.131      2.094         22       1280: 100%|██████████| 12/12 [00:04<00:00,  2.66it/s]\n",
            "                 Class     Images  Instances      Box(P          R      mAP50  mAP50-95)     Mask(P          R      mAP50  mAP50-95): 100%|██████████| 2/2 [00:00<00:00,  5.25it/s]"
          ]
        },
        {
          "output_type": "stream",
          "name": "stdout",
          "text": [
            "                   all         13         98      0.616      0.694      0.678      0.341      0.198     0.0306      0.019    0.00411\n"
          ]
        },
        {
          "output_type": "stream",
          "name": "stderr",
          "text": [
            "\n"
          ]
        },
        {
          "output_type": "stream",
          "name": "stdout",
          "text": [
            "\n",
            "      Epoch    GPU_mem   box_loss   seg_loss   cls_loss   dfl_loss  Instances       Size\n"
          ]
        },
        {
          "output_type": "stream",
          "name": "stderr",
          "text": [
            "     96/100      8.27G      1.627      1.747      1.148      2.097         20       1280: 100%|██████████| 12/12 [00:04<00:00,  2.63it/s]\n",
            "                 Class     Images  Instances      Box(P          R      mAP50  mAP50-95)     Mask(P          R      mAP50  mAP50-95): 100%|██████████| 2/2 [00:00<00:00,  5.64it/s]"
          ]
        },
        {
          "output_type": "stream",
          "name": "stdout",
          "text": [
            "                   all         13         98      0.603      0.653      0.667      0.335      0.191     0.0306     0.0129    0.00298\n"
          ]
        },
        {
          "output_type": "stream",
          "name": "stderr",
          "text": [
            "\n"
          ]
        },
        {
          "output_type": "stream",
          "name": "stdout",
          "text": [
            "\n",
            "      Epoch    GPU_mem   box_loss   seg_loss   cls_loss   dfl_loss  Instances       Size\n"
          ]
        },
        {
          "output_type": "stream",
          "name": "stderr",
          "text": [
            "     97/100      8.01G      1.584      1.766      1.098      2.052         17       1280: 100%|██████████| 12/12 [00:04<00:00,  2.66it/s]\n",
            "                 Class     Images  Instances      Box(P          R      mAP50  mAP50-95)     Mask(P          R      mAP50  mAP50-95): 100%|██████████| 2/2 [00:00<00:00,  5.45it/s]"
          ]
        },
        {
          "output_type": "stream",
          "name": "stdout",
          "text": [
            "                   all         13         98        0.6      0.663      0.676      0.332      0.225     0.0408     0.0176    0.00323\n"
          ]
        },
        {
          "output_type": "stream",
          "name": "stderr",
          "text": [
            "\n"
          ]
        },
        {
          "output_type": "stream",
          "name": "stdout",
          "text": [
            "\n",
            "      Epoch    GPU_mem   box_loss   seg_loss   cls_loss   dfl_loss  Instances       Size\n"
          ]
        },
        {
          "output_type": "stream",
          "name": "stderr",
          "text": [
            "     98/100       8.1G      1.603      1.749       1.12      2.079         23       1280: 100%|██████████| 12/12 [00:04<00:00,  2.66it/s]\n",
            "                 Class     Images  Instances      Box(P          R      mAP50  mAP50-95)     Mask(P          R      mAP50  mAP50-95): 100%|██████████| 2/2 [00:00<00:00,  5.59it/s]"
          ]
        },
        {
          "output_type": "stream",
          "name": "stdout",
          "text": [
            "                   all         13         98      0.615      0.685      0.678      0.327      0.221     0.0408     0.0168    0.00333\n"
          ]
        },
        {
          "output_type": "stream",
          "name": "stderr",
          "text": [
            "\n"
          ]
        },
        {
          "output_type": "stream",
          "name": "stdout",
          "text": [
            "\n",
            "      Epoch    GPU_mem   box_loss   seg_loss   cls_loss   dfl_loss  Instances       Size\n"
          ]
        },
        {
          "output_type": "stream",
          "name": "stderr",
          "text": [
            "     99/100       8.3G      1.584      1.728      1.118      2.057         21       1280: 100%|██████████| 12/12 [00:04<00:00,  2.70it/s]\n",
            "                 Class     Images  Instances      Box(P          R      mAP50  mAP50-95)     Mask(P          R      mAP50  mAP50-95): 100%|██████████| 2/2 [00:00<00:00,  5.72it/s]"
          ]
        },
        {
          "output_type": "stream",
          "name": "stdout",
          "text": [
            "                   all         13         98      0.615      0.685      0.678      0.327      0.221     0.0408     0.0168    0.00333\n"
          ]
        },
        {
          "output_type": "stream",
          "name": "stderr",
          "text": [
            "\n"
          ]
        },
        {
          "output_type": "stream",
          "name": "stdout",
          "text": [
            "\n",
            "      Epoch    GPU_mem   box_loss   seg_loss   cls_loss   dfl_loss  Instances       Size\n"
          ]
        },
        {
          "output_type": "stream",
          "name": "stderr",
          "text": [
            "    100/100      8.26G      1.575      1.724      1.102      2.044         20       1280: 100%|██████████| 12/12 [00:04<00:00,  2.65it/s]\n",
            "                 Class     Images  Instances      Box(P          R      mAP50  mAP50-95)     Mask(P          R      mAP50  mAP50-95): 100%|██████████| 2/2 [00:00<00:00,  5.40it/s]"
          ]
        },
        {
          "output_type": "stream",
          "name": "stdout",
          "text": [
            "                   all         13         98      0.636      0.663      0.676      0.328      0.212     0.0408     0.0165    0.00321\n"
          ]
        },
        {
          "output_type": "stream",
          "name": "stderr",
          "text": [
            "\n"
          ]
        },
        {
          "output_type": "stream",
          "name": "stdout",
          "text": [
            "\n",
            "100 epochs completed in 0.178 hours.\n",
            "Optimizer stripped from runs/segment/train4222/weights/last.pt, 54.9MB\n",
            "Optimizer stripped from runs/segment/train4222/weights/best.pt, 54.9MB\n",
            "\n",
            "Validating runs/segment/train4222/weights/best.pt...\n",
            "Ultralytics YOLOv8.2.102 🚀 Python-3.10.12 torch-2.4.1+cu121 CUDA:0 (NVIDIA L4, 22700MiB)\n",
            "YOLOv8m-seg summary (fused): 245 layers, 27,222,963 parameters, 0 gradients, 110.0 GFLOPs\n"
          ]
        },
        {
          "output_type": "stream",
          "name": "stderr",
          "text": [
            "                 Class     Images  Instances      Box(P          R      mAP50  mAP50-95)     Mask(P          R      mAP50  mAP50-95): 100%|██████████| 2/2 [00:00<00:00,  5.40it/s]\n"
          ]
        },
        {
          "output_type": "stream",
          "name": "stdout",
          "text": [
            "                   all         13         98      0.616      0.694      0.678       0.34      0.197     0.0306      0.019    0.00411\n",
            "Speed: 0.5ms preprocess, 18.3ms inference, 0.0ms loss, 1.2ms postprocess per image\n",
            "Results saved to \u001b[1mruns/segment/train4222\u001b[0m\n"
          ]
        }
      ],
      "source": [
        "# Train the model\n",
        "#trainresults = model.train(data=\"/content/setup-002-standalone.yaml\", epochs=100, imgsz=1280)\n",
        "trainresults = model.train(data=yamlfile, epochs=100, imgsz=1280, batch=0.9)"
      ]
    },
    {
      "cell_type": "markdown",
      "metadata": {
        "id": "rNzigXMWvTmd"
      },
      "source": [
        "### wandb?\n",
        "TODO: think about saving the models automatically ...\n",
        "\n",
        "... and managing the parameter \"matrix\""
      ]
    },
    {
      "cell_type": "markdown",
      "metadata": {
        "id": "F7eC0lxgl8LZ"
      },
      "source": [
        "### Tensorboard:"
      ]
    },
    {
      "cell_type": "code",
      "execution_count": null,
      "metadata": {
        "collapsed": true,
        "id": "Irn7Y2ALokRg"
      },
      "outputs": [],
      "source": [
        "# Show tensorboard:\n",
        "#%tensorboard --logdir /content/runs/detect #path/to/runs"
      ]
    },
    {
      "cell_type": "markdown",
      "metadata": {
        "id": "EtcCG9EJw5xh"
      },
      "source": [
        "## Predict the cucumbers on test images:"
      ]
    },
    {
      "cell_type": "code",
      "execution_count": null,
      "metadata": {
        "id": "fue3BZW7w898"
      },
      "outputs": [],
      "source": [
        "# Examples:\n",
        "# #predictresults = model([\"image1.jpg\", \"image2.jpg\"])  # return a list of Results objects\n",
        "# # Run inference on 'bus.jpg' with arguments\n",
        "# model.predict(\"bus.jpg\", save=True, imgsz=320, conf=0.5)\n",
        "\n",
        "\n",
        "# /content/Data/test/images\n",
        "\n",
        "# First, I guess we should _dynamically_?! define a list of images to predict on:\n",
        "#imagelist = []\n",
        "imagelist = os.listdir(\"/content/Data/test/images\")\n",
        "print(f\"Using {len(imagelist)} images for prediction\")\n",
        "\n",
        "# Then, we can predict on the images:\n",
        "results = model.predict(imagelist,\n",
        "                        imgsz=1280,\n",
        "                        conf=0.5,\n",
        "                        #show=True,\n",
        "                        save=True)\n",
        "\n",
        "print(\"Where are the resulting pictures stored? :-) \\n\" +\n",
        "      \"And how can I rescale them for/after prediction?\")\n",
        "\n",
        "# # Process result:\n",
        "# # for result in results:\n",
        "# boxes = result.boxes  # Boxes object for bounding box outputs\n",
        "# # masks = result.masks  # Masks object for segmentation masks outputs\n",
        "# # keypoints = result.keypoints  # Keypoints object for pose outputs\n",
        "# probs = result.probs  # Probs object for classification outputs\n",
        "# obb = result.obb  # Oriented boxes object for OBB outputs\n",
        "# result.show()  # display to screen"
      ]
    },
    {
      "cell_type": "markdown",
      "metadata": {
        "id": "_FgFQTFupD7H"
      },
      "source": [
        "### Show resulting pictures:"
      ]
    },
    {
      "cell_type": "markdown",
      "metadata": {
        "id": "Mdy6vR38vTmf"
      },
      "source": [
        "Perhaps replace IPython display by PIL stuff?"
      ]
    },
    {
      "cell_type": "code",
      "execution_count": null,
      "metadata": {
        "id": "1DQW-HKs3_y5"
      },
      "outputs": [],
      "source": [
        "from IPython.display import Image\n",
        "#Image(filename='/content/runs/detect/train53/20220614_134218_Gurkenfoto_2.jpg', width=400)\n"
      ]
    },
    {
      "cell_type": "code",
      "execution_count": null,
      "metadata": {
        "id": "306phky0t45r"
      },
      "outputs": [],
      "source": [
        "#Image(filename='/content/runs/detect/train2/20220614_134218_Gurkenfoto_rescaled_640.jpg', width=400)\n"
      ]
    },
    {
      "cell_type": "code",
      "execution_count": null,
      "metadata": {
        "id": "vE8J00QCt-Ih"
      },
      "outputs": [],
      "source": [
        "#Image(filename='/content/runs/detect/train53/dsc01843.png', width=400)"
      ]
    }
  ],
  "metadata": {
    "accelerator": "GPU",
    "colab": {
      "collapsed_sections": [
        "F7eC0lxgl8LZ"
      ],
      "gpuType": "L4",
      "provenance": [],
      "machine_shape": "hm"
    },
    "kaggle": {
      "accelerator": "none",
      "dataSources": [
        {
          "datasetId": 5761334,
          "sourceId": 9473393,
          "sourceType": "datasetVersion"
        }
      ],
      "dockerImageVersionId": 30761,
      "isGpuEnabled": false,
      "isInternetEnabled": true,
      "language": "python",
      "sourceType": "notebook"
    },
    "kernelspec": {
      "display_name": "Python 3",
      "name": "python3"
    },
    "language_info": {
      "codemirror_mode": {
        "name": "ipython",
        "version": 3
      },
      "file_extension": ".py",
      "mimetype": "text/x-python",
      "name": "python",
      "nbconvert_exporter": "python",
      "pygments_lexer": "ipython3",
      "version": "3.10.14"
    }
  },
  "nbformat": 4,
  "nbformat_minor": 0
}